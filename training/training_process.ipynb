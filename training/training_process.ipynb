{
 "cells": [
  {
   "cell_type": "markdown",
   "metadata": {},
   "source": [
    "# Machine Learning Challenge: Predict Titanic Survivors\n",
    "More information on the [Kaggle site](https://www.kaggle.com/c/titanic/data)"
   ]
  },
  {
   "cell_type": "code",
   "execution_count": 1,
   "metadata": {},
   "outputs": [],
   "source": [
    "import numpy as np \n",
    "import pandas as pd\n",
    "import seaborn as sns\n",
    "import matplotlib.pyplot as plt\n",
    "import warnings\n",
    "from collections import Counter\n",
    "\n",
    "%matplotlib inline\n",
    "sns.set(style=\"whitegrid\")\n",
    "warnings.filterwarnings(\"ignore\")"
   ]
  },
  {
   "cell_type": "code",
   "execution_count": 2,
   "metadata": {},
   "outputs": [],
   "source": [
    "import pandas as pd\n",
    "\n",
    "\n"
   ]
  },
  {
   "cell_type": "code",
   "execution_count": 3,
   "metadata": {},
   "outputs": [],
   "source": [
    "# get titanic & test csv files as a DataFrame\n",
    "training = pd.read_csv(\"dataset/train.csv\")"
   ]
  },
  {
   "cell_type": "code",
   "execution_count": 4,
   "metadata": {},
   "outputs": [
    {
     "data": {
      "text/html": [
       "<div>\n",
       "<style scoped>\n",
       "    .dataframe tbody tr th:only-of-type {\n",
       "        vertical-align: middle;\n",
       "    }\n",
       "\n",
       "    .dataframe tbody tr th {\n",
       "        vertical-align: top;\n",
       "    }\n",
       "\n",
       "    .dataframe thead th {\n",
       "        text-align: right;\n",
       "    }\n",
       "</style>\n",
       "<table border=\"1\" class=\"dataframe\">\n",
       "  <thead>\n",
       "    <tr style=\"text-align: right;\">\n",
       "      <th></th>\n",
       "      <th>PassengerId</th>\n",
       "      <th>Survived</th>\n",
       "      <th>Pclass</th>\n",
       "      <th>Name</th>\n",
       "      <th>Sex</th>\n",
       "      <th>Age</th>\n",
       "      <th>SibSp</th>\n",
       "      <th>Parch</th>\n",
       "      <th>Ticket</th>\n",
       "      <th>Fare</th>\n",
       "      <th>Cabin</th>\n",
       "      <th>Embarked</th>\n",
       "    </tr>\n",
       "  </thead>\n",
       "  <tbody>\n",
       "    <tr>\n",
       "      <th>0</th>\n",
       "      <td>1</td>\n",
       "      <td>0</td>\n",
       "      <td>3</td>\n",
       "      <td>Braund, Mr. Owen Harris</td>\n",
       "      <td>male</td>\n",
       "      <td>22.0</td>\n",
       "      <td>1</td>\n",
       "      <td>0</td>\n",
       "      <td>A/5 21171</td>\n",
       "      <td>7.2500</td>\n",
       "      <td>NaN</td>\n",
       "      <td>S</td>\n",
       "    </tr>\n",
       "    <tr>\n",
       "      <th>1</th>\n",
       "      <td>2</td>\n",
       "      <td>1</td>\n",
       "      <td>1</td>\n",
       "      <td>Cumings, Mrs. John Bradley (Florence Briggs Th...</td>\n",
       "      <td>female</td>\n",
       "      <td>38.0</td>\n",
       "      <td>1</td>\n",
       "      <td>0</td>\n",
       "      <td>PC 17599</td>\n",
       "      <td>71.2833</td>\n",
       "      <td>C85</td>\n",
       "      <td>C</td>\n",
       "    </tr>\n",
       "    <tr>\n",
       "      <th>2</th>\n",
       "      <td>3</td>\n",
       "      <td>1</td>\n",
       "      <td>3</td>\n",
       "      <td>Heikkinen, Miss. Laina</td>\n",
       "      <td>female</td>\n",
       "      <td>26.0</td>\n",
       "      <td>0</td>\n",
       "      <td>0</td>\n",
       "      <td>STON/O2. 3101282</td>\n",
       "      <td>7.9250</td>\n",
       "      <td>NaN</td>\n",
       "      <td>S</td>\n",
       "    </tr>\n",
       "    <tr>\n",
       "      <th>3</th>\n",
       "      <td>4</td>\n",
       "      <td>1</td>\n",
       "      <td>1</td>\n",
       "      <td>Futrelle, Mrs. Jacques Heath (Lily May Peel)</td>\n",
       "      <td>female</td>\n",
       "      <td>35.0</td>\n",
       "      <td>1</td>\n",
       "      <td>0</td>\n",
       "      <td>113803</td>\n",
       "      <td>53.1000</td>\n",
       "      <td>C123</td>\n",
       "      <td>S</td>\n",
       "    </tr>\n",
       "    <tr>\n",
       "      <th>4</th>\n",
       "      <td>5</td>\n",
       "      <td>0</td>\n",
       "      <td>3</td>\n",
       "      <td>Allen, Mr. William Henry</td>\n",
       "      <td>male</td>\n",
       "      <td>35.0</td>\n",
       "      <td>0</td>\n",
       "      <td>0</td>\n",
       "      <td>373450</td>\n",
       "      <td>8.0500</td>\n",
       "      <td>NaN</td>\n",
       "      <td>S</td>\n",
       "    </tr>\n",
       "  </tbody>\n",
       "</table>\n",
       "</div>"
      ],
      "text/plain": [
       "   PassengerId  Survived  Pclass  \\\n",
       "0            1         0       3   \n",
       "1            2         1       1   \n",
       "2            3         1       3   \n",
       "3            4         1       1   \n",
       "4            5         0       3   \n",
       "\n",
       "                                                Name     Sex   Age  SibSp  \\\n",
       "0                            Braund, Mr. Owen Harris    male  22.0      1   \n",
       "1  Cumings, Mrs. John Bradley (Florence Briggs Th...  female  38.0      1   \n",
       "2                             Heikkinen, Miss. Laina  female  26.0      0   \n",
       "3       Futrelle, Mrs. Jacques Heath (Lily May Peel)  female  35.0      1   \n",
       "4                           Allen, Mr. William Henry    male  35.0      0   \n",
       "\n",
       "   Parch            Ticket     Fare Cabin Embarked  \n",
       "0      0         A/5 21171   7.2500   NaN        S  \n",
       "1      0          PC 17599  71.2833   C85        C  \n",
       "2      0  STON/O2. 3101282   7.9250   NaN        S  \n",
       "3      0            113803  53.1000  C123        S  \n",
       "4      0            373450   8.0500   NaN        S  "
      ]
     },
     "execution_count": 4,
     "metadata": {},
     "output_type": "execute_result"
    }
   ],
   "source": [
    "training.head() # print first 5 rows"
   ]
  },
  {
   "cell_type": "code",
   "execution_count": 5,
   "metadata": {},
   "outputs": [
    {
     "data": {
      "text/html": [
       "<div>\n",
       "<style scoped>\n",
       "    .dataframe tbody tr th:only-of-type {\n",
       "        vertical-align: middle;\n",
       "    }\n",
       "\n",
       "    .dataframe tbody tr th {\n",
       "        vertical-align: top;\n",
       "    }\n",
       "\n",
       "    .dataframe thead th {\n",
       "        text-align: right;\n",
       "    }\n",
       "</style>\n",
       "<table border=\"1\" class=\"dataframe\">\n",
       "  <thead>\n",
       "    <tr style=\"text-align: right;\">\n",
       "      <th></th>\n",
       "      <th>PassengerId</th>\n",
       "      <th>Survived</th>\n",
       "      <th>Pclass</th>\n",
       "      <th>Age</th>\n",
       "      <th>SibSp</th>\n",
       "      <th>Parch</th>\n",
       "      <th>Fare</th>\n",
       "    </tr>\n",
       "  </thead>\n",
       "  <tbody>\n",
       "    <tr>\n",
       "      <th>count</th>\n",
       "      <td>891.000000</td>\n",
       "      <td>891.000000</td>\n",
       "      <td>891.000000</td>\n",
       "      <td>714.000000</td>\n",
       "      <td>891.000000</td>\n",
       "      <td>891.000000</td>\n",
       "      <td>891.000000</td>\n",
       "    </tr>\n",
       "    <tr>\n",
       "      <th>mean</th>\n",
       "      <td>446.000000</td>\n",
       "      <td>0.383838</td>\n",
       "      <td>2.308642</td>\n",
       "      <td>29.699118</td>\n",
       "      <td>0.523008</td>\n",
       "      <td>0.381594</td>\n",
       "      <td>32.204208</td>\n",
       "    </tr>\n",
       "    <tr>\n",
       "      <th>std</th>\n",
       "      <td>257.353842</td>\n",
       "      <td>0.486592</td>\n",
       "      <td>0.836071</td>\n",
       "      <td>14.526497</td>\n",
       "      <td>1.102743</td>\n",
       "      <td>0.806057</td>\n",
       "      <td>49.693429</td>\n",
       "    </tr>\n",
       "    <tr>\n",
       "      <th>min</th>\n",
       "      <td>1.000000</td>\n",
       "      <td>0.000000</td>\n",
       "      <td>1.000000</td>\n",
       "      <td>0.420000</td>\n",
       "      <td>0.000000</td>\n",
       "      <td>0.000000</td>\n",
       "      <td>0.000000</td>\n",
       "    </tr>\n",
       "    <tr>\n",
       "      <th>25%</th>\n",
       "      <td>223.500000</td>\n",
       "      <td>0.000000</td>\n",
       "      <td>2.000000</td>\n",
       "      <td>20.125000</td>\n",
       "      <td>0.000000</td>\n",
       "      <td>0.000000</td>\n",
       "      <td>7.910400</td>\n",
       "    </tr>\n",
       "    <tr>\n",
       "      <th>50%</th>\n",
       "      <td>446.000000</td>\n",
       "      <td>0.000000</td>\n",
       "      <td>3.000000</td>\n",
       "      <td>28.000000</td>\n",
       "      <td>0.000000</td>\n",
       "      <td>0.000000</td>\n",
       "      <td>14.454200</td>\n",
       "    </tr>\n",
       "    <tr>\n",
       "      <th>75%</th>\n",
       "      <td>668.500000</td>\n",
       "      <td>1.000000</td>\n",
       "      <td>3.000000</td>\n",
       "      <td>38.000000</td>\n",
       "      <td>1.000000</td>\n",
       "      <td>0.000000</td>\n",
       "      <td>31.000000</td>\n",
       "    </tr>\n",
       "    <tr>\n",
       "      <th>max</th>\n",
       "      <td>891.000000</td>\n",
       "      <td>1.000000</td>\n",
       "      <td>3.000000</td>\n",
       "      <td>80.000000</td>\n",
       "      <td>8.000000</td>\n",
       "      <td>6.000000</td>\n",
       "      <td>512.329200</td>\n",
       "    </tr>\n",
       "  </tbody>\n",
       "</table>\n",
       "</div>"
      ],
      "text/plain": [
       "       PassengerId    Survived      Pclass         Age       SibSp  \\\n",
       "count   891.000000  891.000000  891.000000  714.000000  891.000000   \n",
       "mean    446.000000    0.383838    2.308642   29.699118    0.523008   \n",
       "std     257.353842    0.486592    0.836071   14.526497    1.102743   \n",
       "min       1.000000    0.000000    1.000000    0.420000    0.000000   \n",
       "25%     223.500000    0.000000    2.000000   20.125000    0.000000   \n",
       "50%     446.000000    0.000000    3.000000   28.000000    0.000000   \n",
       "75%     668.500000    1.000000    3.000000   38.000000    1.000000   \n",
       "max     891.000000    1.000000    3.000000   80.000000    8.000000   \n",
       "\n",
       "            Parch        Fare  \n",
       "count  891.000000  891.000000  \n",
       "mean     0.381594   32.204208  \n",
       "std      0.806057   49.693429  \n",
       "min      0.000000    0.000000  \n",
       "25%      0.000000    7.910400  \n",
       "50%      0.000000   14.454200  \n",
       "75%      0.000000   31.000000  \n",
       "max      6.000000  512.329200  "
      ]
     },
     "execution_count": 5,
     "metadata": {},
     "output_type": "execute_result"
    }
   ],
   "source": [
    "training.describe() # some interesting statistics for features"
   ]
  },
  {
   "cell_type": "code",
   "execution_count": 6,
   "metadata": {},
   "outputs": [
    {
     "data": {
      "text/plain": [
       "Index(['PassengerId', 'Survived', 'Pclass', 'Name', 'Sex', 'Age', 'SibSp',\n",
       "       'Parch', 'Ticket', 'Fare', 'Cabin', 'Embarked'],\n",
       "      dtype='object')"
      ]
     },
     "execution_count": 6,
     "metadata": {},
     "output_type": "execute_result"
    }
   ],
   "source": [
    "training.keys() # Show features names"
   ]
  },
  {
   "cell_type": "markdown",
   "metadata": {},
   "source": [
    "## Variable Description\n",
    "- Survived: Survived (1) or died (0)\n",
    "- Pclass: Passenger's class\n",
    "- Name: Passenger's name\n",
    "- Sex: Passenger's sex\n",
    "- Age: Passenger's age\n",
    "- SibSp: Number of siblings/spouses aboard\n",
    "- Parch: Number of parents/children aboard\n",
    "- Ticket: Ticket number\n",
    "- Fare: Fare\n",
    "- Cabin: Cabin\n",
    "- Embarked: Port of embarkation"
   ]
  },
  {
   "cell_type": "code",
   "execution_count": 7,
   "metadata": {},
   "outputs": [
    {
     "name": "stdout",
     "output_type": "stream",
     "text": [
      "<class 'pandas.core.frame.DataFrame'>\n",
      "RangeIndex: 891 entries, 0 to 890\n",
      "Data columns (total 12 columns):\n",
      " #   Column       Non-Null Count  Dtype  \n",
      "---  ------       --------------  -----  \n",
      " 0   PassengerId  891 non-null    int64  \n",
      " 1   Survived     891 non-null    int64  \n",
      " 2   Pclass       891 non-null    int64  \n",
      " 3   Name         891 non-null    object \n",
      " 4   Sex          891 non-null    object \n",
      " 5   Age          714 non-null    float64\n",
      " 6   SibSp        891 non-null    int64  \n",
      " 7   Parch        891 non-null    int64  \n",
      " 8   Ticket       891 non-null    object \n",
      " 9   Fare         891 non-null    float64\n",
      " 10  Cabin        204 non-null    object \n",
      " 11  Embarked     889 non-null    object \n",
      "dtypes: float64(2), int64(5), object(5)\n",
      "memory usage: 83.7+ KB\n"
     ]
    }
   ],
   "source": [
    "training.info()"
   ]
  },
  {
   "cell_type": "code",
   "execution_count": 8,
   "metadata": {},
   "outputs": [
    {
     "data": {
      "image/png": "[encoded data removed]",
      "text/plain": [
       "<Figure size 432x288 with 1 Axes>"
      ]
     },
     "metadata": {},
     "output_type": "display_data"
    }
   ],
   "source": [
    "# Survived rate by sex\n",
    "sns.barplot(x=\"Sex\", y=\"Survived\", data=training);"
   ]
  },
  {
   "cell_type": "code",
   "execution_count": 9,
   "metadata": {},
   "outputs": [
    {
     "data": {
      "text/plain": [
       "<AxesSubplot:xlabel='Pclass', ylabel='Survived'>"
      ]
     },
     "execution_count": 9,
     "metadata": {},
     "output_type": "execute_result"
    },
    {
     "data": {
      "image/png": "[encoded data removed]",
      "text/plain": [
       "<Figure size 432x288 with 1 Axes>"
      ]
     },
     "metadata": {},
     "output_type": "display_data"
    }
   ],
   "source": [
    "# Survived rate by Pclass\n",
    "sns.barplot(x=\"Pclass\", y=\"Survived\", data=training)"
   ]
  },
  {
   "cell_type": "code",
   "execution_count": 10,
   "metadata": {},
   "outputs": [
    {
     "data": {
      "image/png": "[encoded data removed]",
      "text/plain": [
       "<Figure size 432x288 with 1 Axes>"
      ]
     },
     "metadata": {},
     "output_type": "display_data"
    }
   ],
   "source": [
    "# Survived rate by Embarked\n",
    "sns.barplot(x=\"Embarked\", y=\"Survived\", hue=\"Sex\", data=training);"
   ]
  },
  {
   "cell_type": "code",
   "execution_count": 11,
   "metadata": {},
   "outputs": [
    {
     "data": {
      "image/png": "[encoded data removed]",
      "text/plain": [
       "<Figure size 432x288 with 1 Axes>"
      ]
     },
     "metadata": {},
     "output_type": "display_data"
    }
   ],
   "source": [
    "# Survived rate by Pclas and Sex\n",
    "sns.barplot(x=\"Pclass\", y=\"Survived\", hue=\"Sex\", data=training);"
   ]
  },
  {
   "cell_type": "code",
   "execution_count": 12,
   "metadata": {},
   "outputs": [
    {
     "data": {
      "image/png": "[encoded data removed]",
      "text/plain": [
       "<Figure size 432x288 with 1 Axes>"
      ]
     },
     "metadata": {},
     "output_type": "display_data"
    }
   ],
   "source": [
    "sns.pointplot(x=\"Pclass\", y=\"Survived\", hue=\"Sex\", data=training,\n",
    "              palette={\"male\": \"blue\", \"female\": \"pink\"},\n",
    "              markers=[\"*\", \"o\"], linestyles=[\"-\", \"--\"]);"
   ]
  },
  {
   "cell_type": "code",
   "execution_count": 13,
   "metadata": {},
   "outputs": [
    {
     "data": {
      "text/plain": [
       "<seaborn.axisgrid.FacetGrid at 0x7fdc68593e80>"
      ]
     },
     "execution_count": 13,
     "metadata": {},
     "output_type": "execute_result"
    },
    {
     "data": {
      "image/png": "[encoded data removed]",
      "text/plain": [
       "<Figure size 919.55x216 with 1 Axes>"
      ]
     },
     "metadata": {},
     "output_type": "display_data"
    }
   ],
   "source": [
    "# peaks for survived/not survived passengers by their age\n",
    "\n",
    "facet = sns.FacetGrid(training, hue=\"Survived\",aspect=4)\n",
    "facet.map(sns.kdeplot,'Age',shade= True)\n",
    "facet.set(xlim=(0, training['Age'].max()))\n",
    "facet.add_legend()"
   ]
  },
  {
   "cell_type": "code",
   "execution_count": 14,
   "metadata": {},
   "outputs": [],
   "source": [
    "training = training.drop(['Name','Ticket', 'Cabin'], axis=1)"
   ]
  },
  {
   "cell_type": "code",
   "execution_count": 15,
   "metadata": {},
   "outputs": [
    {
     "data": {
      "text/html": [
       "<div>\n",
       "<style scoped>\n",
       "    .dataframe tbody tr th:only-of-type {\n",
       "        vertical-align: middle;\n",
       "    }\n",
       "\n",
       "    .dataframe tbody tr th {\n",
       "        vertical-align: top;\n",
       "    }\n",
       "\n",
       "    .dataframe thead th {\n",
       "        text-align: right;\n",
       "    }\n",
       "</style>\n",
       "<table border=\"1\" class=\"dataframe\">\n",
       "  <thead>\n",
       "    <tr style=\"text-align: right;\">\n",
       "      <th></th>\n",
       "      <th>PassengerId</th>\n",
       "      <th>Survived</th>\n",
       "      <th>Pclass</th>\n",
       "      <th>Sex</th>\n",
       "      <th>Age</th>\n",
       "      <th>SibSp</th>\n",
       "      <th>Parch</th>\n",
       "      <th>Fare</th>\n",
       "      <th>Embarked</th>\n",
       "    </tr>\n",
       "  </thead>\n",
       "  <tbody>\n",
       "    <tr>\n",
       "      <th>0</th>\n",
       "      <td>1</td>\n",
       "      <td>0</td>\n",
       "      <td>3</td>\n",
       "      <td>male</td>\n",
       "      <td>22.0</td>\n",
       "      <td>1</td>\n",
       "      <td>0</td>\n",
       "      <td>7.2500</td>\n",
       "      <td>S</td>\n",
       "    </tr>\n",
       "    <tr>\n",
       "      <th>1</th>\n",
       "      <td>2</td>\n",
       "      <td>1</td>\n",
       "      <td>1</td>\n",
       "      <td>female</td>\n",
       "      <td>38.0</td>\n",
       "      <td>1</td>\n",
       "      <td>0</td>\n",
       "      <td>71.2833</td>\n",
       "      <td>C</td>\n",
       "    </tr>\n",
       "    <tr>\n",
       "      <th>2</th>\n",
       "      <td>3</td>\n",
       "      <td>1</td>\n",
       "      <td>3</td>\n",
       "      <td>female</td>\n",
       "      <td>26.0</td>\n",
       "      <td>0</td>\n",
       "      <td>0</td>\n",
       "      <td>7.9250</td>\n",
       "      <td>S</td>\n",
       "    </tr>\n",
       "    <tr>\n",
       "      <th>3</th>\n",
       "      <td>4</td>\n",
       "      <td>1</td>\n",
       "      <td>1</td>\n",
       "      <td>female</td>\n",
       "      <td>35.0</td>\n",
       "      <td>1</td>\n",
       "      <td>0</td>\n",
       "      <td>53.1000</td>\n",
       "      <td>S</td>\n",
       "    </tr>\n",
       "    <tr>\n",
       "      <th>4</th>\n",
       "      <td>5</td>\n",
       "      <td>0</td>\n",
       "      <td>3</td>\n",
       "      <td>male</td>\n",
       "      <td>35.0</td>\n",
       "      <td>0</td>\n",
       "      <td>0</td>\n",
       "      <td>8.0500</td>\n",
       "      <td>S</td>\n",
       "    </tr>\n",
       "  </tbody>\n",
       "</table>\n",
       "</div>"
      ],
      "text/plain": [
       "   PassengerId  Survived  Pclass     Sex   Age  SibSp  Parch     Fare Embarked\n",
       "0            1         0       3    male  22.0      1      0   7.2500        S\n",
       "1            2         1       1  female  38.0      1      0  71.2833        C\n",
       "2            3         1       3  female  26.0      0      0   7.9250        S\n",
       "3            4         1       1  female  35.0      1      0  53.1000        S\n",
       "4            5         0       3    male  35.0      0      0   8.0500        S"
      ]
     },
     "execution_count": 15,
     "metadata": {},
     "output_type": "execute_result"
    }
   ],
   "source": [
    "training.head()"
   ]
  },
  {
   "cell_type": "code",
   "execution_count": 16,
   "metadata": {},
   "outputs": [],
   "source": [
    "# Filling missing age values with median\n",
    "training.Age = training.Age.fillna(training.Age.median())"
   ]
  },
  {
   "cell_type": "code",
   "execution_count": 17,
   "metadata": {},
   "outputs": [
    {
     "name": "stdout",
     "output_type": "stream",
     "text": [
      "<class 'pandas.core.frame.DataFrame'>\n",
      "RangeIndex: 891 entries, 0 to 890\n",
      "Data columns (total 9 columns):\n",
      " #   Column       Non-Null Count  Dtype  \n",
      "---  ------       --------------  -----  \n",
      " 0   PassengerId  891 non-null    int64  \n",
      " 1   Survived     891 non-null    int64  \n",
      " 2   Pclass       891 non-null    int64  \n",
      " 3   Sex          891 non-null    object \n",
      " 4   Age          891 non-null    float64\n",
      " 5   SibSp        891 non-null    int64  \n",
      " 6   Parch        891 non-null    int64  \n",
      " 7   Fare         891 non-null    float64\n",
      " 8   Embarked     889 non-null    object \n",
      "dtypes: float64(2), int64(5), object(2)\n",
      "memory usage: 62.8+ KB\n"
     ]
    }
   ],
   "source": [
    "# Age is now completed\n",
    "training.info()"
   ]
  },
  {
   "cell_type": "code",
   "execution_count": 18,
   "metadata": {},
   "outputs": [
    {
     "data": {
      "text/plain": [
       "Counter({'S': 644, 'C': 168, 'Q': 77, nan: 2})"
      ]
     },
     "execution_count": 18,
     "metadata": {},
     "output_type": "execute_result"
    }
   ],
   "source": [
    "Counter(training.Embarked.values)"
   ]
  },
  {
   "cell_type": "code",
   "execution_count": 19,
   "metadata": {},
   "outputs": [],
   "source": [
    "training.Embarked = training.Embarked.fillna('S')"
   ]
  },
  {
   "cell_type": "code",
   "execution_count": 20,
   "metadata": {},
   "outputs": [
    {
     "name": "stdout",
     "output_type": "stream",
     "text": [
      "<class 'pandas.core.frame.DataFrame'>\n",
      "RangeIndex: 891 entries, 0 to 890\n",
      "Data columns (total 9 columns):\n",
      " #   Column       Non-Null Count  Dtype  \n",
      "---  ------       --------------  -----  \n",
      " 0   PassengerId  891 non-null    int64  \n",
      " 1   Survived     891 non-null    int64  \n",
      " 2   Pclass       891 non-null    int64  \n",
      " 3   Sex          891 non-null    object \n",
      " 4   Age          891 non-null    float64\n",
      " 5   SibSp        891 non-null    int64  \n",
      " 6   Parch        891 non-null    int64  \n",
      " 7   Fare         891 non-null    float64\n",
      " 8   Embarked     891 non-null    object \n",
      "dtypes: float64(2), int64(5), object(2)\n",
      "memory usage: 62.8+ KB\n"
     ]
    }
   ],
   "source": [
    "# Embarked is now completed\n",
    "training.info()"
   ]
  },
  {
   "cell_type": "code",
   "execution_count": 21,
   "metadata": {},
   "outputs": [
    {
     "data": {
      "text/plain": [
       "Counter({3: 491, 1: 216, 2: 184})"
      ]
     },
     "execution_count": 21,
     "metadata": {},
     "output_type": "execute_result"
    }
   ],
   "source": [
    "Counter(training.Pclass.values)"
   ]
  },
  {
   "cell_type": "code",
   "execution_count": 22,
   "metadata": {},
   "outputs": [],
   "source": [
    "embark_dummies_titanic  = pd.get_dummies(training['Embarked'])\n",
    "sex_dummies_titanic  = pd.get_dummies(training['Sex'])\n",
    "pclass_dummies_titanic  = pd.get_dummies(training['Pclass'], prefix=\"Class\")"
   ]
  },
  {
   "cell_type": "code",
   "execution_count": 23,
   "metadata": {},
   "outputs": [
    {
     "data": {
      "text/html": [
       "<div>\n",
       "<style scoped>\n",
       "    .dataframe tbody tr th:only-of-type {\n",
       "        vertical-align: middle;\n",
       "    }\n",
       "\n",
       "    .dataframe tbody tr th {\n",
       "        vertical-align: top;\n",
       "    }\n",
       "\n",
       "    .dataframe thead th {\n",
       "        text-align: right;\n",
       "    }\n",
       "</style>\n",
       "<table border=\"1\" class=\"dataframe\">\n",
       "  <thead>\n",
       "    <tr style=\"text-align: right;\">\n",
       "      <th></th>\n",
       "      <th>C</th>\n",
       "      <th>Q</th>\n",
       "      <th>S</th>\n",
       "    </tr>\n",
       "  </thead>\n",
       "  <tbody>\n",
       "    <tr>\n",
       "      <th>0</th>\n",
       "      <td>0</td>\n",
       "      <td>0</td>\n",
       "      <td>1</td>\n",
       "    </tr>\n",
       "    <tr>\n",
       "      <th>1</th>\n",
       "      <td>1</td>\n",
       "      <td>0</td>\n",
       "      <td>0</td>\n",
       "    </tr>\n",
       "    <tr>\n",
       "      <th>2</th>\n",
       "      <td>0</td>\n",
       "      <td>0</td>\n",
       "      <td>1</td>\n",
       "    </tr>\n",
       "    <tr>\n",
       "      <th>3</th>\n",
       "      <td>0</td>\n",
       "      <td>0</td>\n",
       "      <td>1</td>\n",
       "    </tr>\n",
       "    <tr>\n",
       "      <th>4</th>\n",
       "      <td>0</td>\n",
       "      <td>0</td>\n",
       "      <td>1</td>\n",
       "    </tr>\n",
       "  </tbody>\n",
       "</table>\n",
       "</div>"
      ],
      "text/plain": [
       "   C  Q  S\n",
       "0  0  0  1\n",
       "1  1  0  0\n",
       "2  0  0  1\n",
       "3  0  0  1\n",
       "4  0  0  1"
      ]
     },
     "execution_count": 23,
     "metadata": {},
     "output_type": "execute_result"
    }
   ],
   "source": [
    "embark_dummies_titanic.head()"
   ]
  },
  {
   "cell_type": "code",
   "execution_count": 24,
   "metadata": {},
   "outputs": [
    {
     "data": {
      "text/html": [
       "<div>\n",
       "<style scoped>\n",
       "    .dataframe tbody tr th:only-of-type {\n",
       "        vertical-align: middle;\n",
       "    }\n",
       "\n",
       "    .dataframe tbody tr th {\n",
       "        vertical-align: top;\n",
       "    }\n",
       "\n",
       "    .dataframe thead th {\n",
       "        text-align: right;\n",
       "    }\n",
       "</style>\n",
       "<table border=\"1\" class=\"dataframe\">\n",
       "  <thead>\n",
       "    <tr style=\"text-align: right;\">\n",
       "      <th></th>\n",
       "      <th>female</th>\n",
       "      <th>male</th>\n",
       "    </tr>\n",
       "  </thead>\n",
       "  <tbody>\n",
       "    <tr>\n",
       "      <th>0</th>\n",
       "      <td>0</td>\n",
       "      <td>1</td>\n",
       "    </tr>\n",
       "    <tr>\n",
       "      <th>1</th>\n",
       "      <td>1</td>\n",
       "      <td>0</td>\n",
       "    </tr>\n",
       "    <tr>\n",
       "      <th>2</th>\n",
       "      <td>1</td>\n",
       "      <td>0</td>\n",
       "    </tr>\n",
       "    <tr>\n",
       "      <th>3</th>\n",
       "      <td>1</td>\n",
       "      <td>0</td>\n",
       "    </tr>\n",
       "    <tr>\n",
       "      <th>4</th>\n",
       "      <td>0</td>\n",
       "      <td>1</td>\n",
       "    </tr>\n",
       "  </tbody>\n",
       "</table>\n",
       "</div>"
      ],
      "text/plain": [
       "   female  male\n",
       "0       0     1\n",
       "1       1     0\n",
       "2       1     0\n",
       "3       1     0\n",
       "4       0     1"
      ]
     },
     "execution_count": 24,
     "metadata": {},
     "output_type": "execute_result"
    }
   ],
   "source": [
    "sex_dummies_titanic.head()"
   ]
  },
  {
   "cell_type": "code",
   "execution_count": 25,
   "metadata": {},
   "outputs": [
    {
     "data": {
      "text/html": [
       "<div>\n",
       "<style scoped>\n",
       "    .dataframe tbody tr th:only-of-type {\n",
       "        vertical-align: middle;\n",
       "    }\n",
       "\n",
       "    .dataframe tbody tr th {\n",
       "        vertical-align: top;\n",
       "    }\n",
       "\n",
       "    .dataframe thead th {\n",
       "        text-align: right;\n",
       "    }\n",
       "</style>\n",
       "<table border=\"1\" class=\"dataframe\">\n",
       "  <thead>\n",
       "    <tr style=\"text-align: right;\">\n",
       "      <th></th>\n",
       "      <th>Class_1</th>\n",
       "      <th>Class_2</th>\n",
       "      <th>Class_3</th>\n",
       "    </tr>\n",
       "  </thead>\n",
       "  <tbody>\n",
       "    <tr>\n",
       "      <th>0</th>\n",
       "      <td>0</td>\n",
       "      <td>0</td>\n",
       "      <td>1</td>\n",
       "    </tr>\n",
       "    <tr>\n",
       "      <th>1</th>\n",
       "      <td>1</td>\n",
       "      <td>0</td>\n",
       "      <td>0</td>\n",
       "    </tr>\n",
       "    <tr>\n",
       "      <th>2</th>\n",
       "      <td>0</td>\n",
       "      <td>0</td>\n",
       "      <td>1</td>\n",
       "    </tr>\n",
       "    <tr>\n",
       "      <th>3</th>\n",
       "      <td>1</td>\n",
       "      <td>0</td>\n",
       "      <td>0</td>\n",
       "    </tr>\n",
       "    <tr>\n",
       "      <th>4</th>\n",
       "      <td>0</td>\n",
       "      <td>0</td>\n",
       "      <td>1</td>\n",
       "    </tr>\n",
       "  </tbody>\n",
       "</table>\n",
       "</div>"
      ],
      "text/plain": [
       "   Class_1  Class_2  Class_3\n",
       "0        0        0        1\n",
       "1        1        0        0\n",
       "2        0        0        1\n",
       "3        1        0        0\n",
       "4        0        0        1"
      ]
     },
     "execution_count": 25,
     "metadata": {},
     "output_type": "execute_result"
    }
   ],
   "source": [
    "pclass_dummies_titanic.head()"
   ]
  },
  {
   "cell_type": "code",
   "execution_count": 26,
   "metadata": {},
   "outputs": [
    {
     "data": {
      "text/html": [
       "<div>\n",
       "<style scoped>\n",
       "    .dataframe tbody tr th:only-of-type {\n",
       "        vertical-align: middle;\n",
       "    }\n",
       "\n",
       "    .dataframe tbody tr th {\n",
       "        vertical-align: top;\n",
       "    }\n",
       "\n",
       "    .dataframe thead th {\n",
       "        text-align: right;\n",
       "    }\n",
       "</style>\n",
       "<table border=\"1\" class=\"dataframe\">\n",
       "  <thead>\n",
       "    <tr style=\"text-align: right;\">\n",
       "      <th></th>\n",
       "      <th>PassengerId</th>\n",
       "      <th>Survived</th>\n",
       "      <th>Age</th>\n",
       "      <th>SibSp</th>\n",
       "      <th>Parch</th>\n",
       "      <th>Fare</th>\n",
       "      <th>C</th>\n",
       "      <th>Q</th>\n",
       "      <th>S</th>\n",
       "      <th>female</th>\n",
       "      <th>male</th>\n",
       "      <th>Class_1</th>\n",
       "      <th>Class_2</th>\n",
       "      <th>Class_3</th>\n",
       "    </tr>\n",
       "  </thead>\n",
       "  <tbody>\n",
       "    <tr>\n",
       "      <th>0</th>\n",
       "      <td>1</td>\n",
       "      <td>0</td>\n",
       "      <td>22.0</td>\n",
       "      <td>1</td>\n",
       "      <td>0</td>\n",
       "      <td>7.2500</td>\n",
       "      <td>0</td>\n",
       "      <td>0</td>\n",
       "      <td>1</td>\n",
       "      <td>0</td>\n",
       "      <td>1</td>\n",
       "      <td>0</td>\n",
       "      <td>0</td>\n",
       "      <td>1</td>\n",
       "    </tr>\n",
       "    <tr>\n",
       "      <th>1</th>\n",
       "      <td>2</td>\n",
       "      <td>1</td>\n",
       "      <td>38.0</td>\n",
       "      <td>1</td>\n",
       "      <td>0</td>\n",
       "      <td>71.2833</td>\n",
       "      <td>1</td>\n",
       "      <td>0</td>\n",
       "      <td>0</td>\n",
       "      <td>1</td>\n",
       "      <td>0</td>\n",
       "      <td>1</td>\n",
       "      <td>0</td>\n",
       "      <td>0</td>\n",
       "    </tr>\n",
       "    <tr>\n",
       "      <th>2</th>\n",
       "      <td>3</td>\n",
       "      <td>1</td>\n",
       "      <td>26.0</td>\n",
       "      <td>0</td>\n",
       "      <td>0</td>\n",
       "      <td>7.9250</td>\n",
       "      <td>0</td>\n",
       "      <td>0</td>\n",
       "      <td>1</td>\n",
       "      <td>1</td>\n",
       "      <td>0</td>\n",
       "      <td>0</td>\n",
       "      <td>0</td>\n",
       "      <td>1</td>\n",
       "    </tr>\n",
       "    <tr>\n",
       "      <th>3</th>\n",
       "      <td>4</td>\n",
       "      <td>1</td>\n",
       "      <td>35.0</td>\n",
       "      <td>1</td>\n",
       "      <td>0</td>\n",
       "      <td>53.1000</td>\n",
       "      <td>0</td>\n",
       "      <td>0</td>\n",
       "      <td>1</td>\n",
       "      <td>1</td>\n",
       "      <td>0</td>\n",
       "      <td>1</td>\n",
       "      <td>0</td>\n",
       "      <td>0</td>\n",
       "    </tr>\n",
       "    <tr>\n",
       "      <th>4</th>\n",
       "      <td>5</td>\n",
       "      <td>0</td>\n",
       "      <td>35.0</td>\n",
       "      <td>0</td>\n",
       "      <td>0</td>\n",
       "      <td>8.0500</td>\n",
       "      <td>0</td>\n",
       "      <td>0</td>\n",
       "      <td>1</td>\n",
       "      <td>0</td>\n",
       "      <td>1</td>\n",
       "      <td>0</td>\n",
       "      <td>0</td>\n",
       "      <td>1</td>\n",
       "    </tr>\n",
       "  </tbody>\n",
       "</table>\n",
       "</div>"
      ],
      "text/plain": [
       "   PassengerId  Survived   Age  SibSp  Parch     Fare  C  Q  S  female  male  \\\n",
       "0            1         0  22.0      1      0   7.2500  0  0  1       0     1   \n",
       "1            2         1  38.0      1      0  71.2833  1  0  0       1     0   \n",
       "2            3         1  26.0      0      0   7.9250  0  0  1       1     0   \n",
       "3            4         1  35.0      1      0  53.1000  0  0  1       1     0   \n",
       "4            5         0  35.0      0      0   8.0500  0  0  1       0     1   \n",
       "\n",
       "   Class_1  Class_2  Class_3  \n",
       "0        0        0        1  \n",
       "1        1        0        0  \n",
       "2        0        0        1  \n",
       "3        1        0        0  \n",
       "4        0        0        1  "
      ]
     },
     "execution_count": 26,
     "metadata": {},
     "output_type": "execute_result"
    }
   ],
   "source": [
    "training = training.drop(['Embarked', 'Sex', 'Pclass'], axis=1)\n",
    "titanic = training.join([embark_dummies_titanic, sex_dummies_titanic, pclass_dummies_titanic])\n",
    "titanic.head()"
   ]
  },
  {
   "cell_type": "code",
   "execution_count": 27,
   "metadata": {},
   "outputs": [],
   "source": [
    "from sklearn.model_selection import train_test_split"
   ]
  },
  {
   "cell_type": "code",
   "execution_count": 28,
   "metadata": {},
   "outputs": [],
   "source": [
    "X_all = titanic.drop('Survived', axis=1)\n",
    "y_all = titanic.Survived"
   ]
  },
  {
   "cell_type": "code",
   "execution_count": 29,
   "metadata": {},
   "outputs": [],
   "source": [
    "X_all.to_csv('test.csv')\n",
    "X_all.set_index('PassengerId', inplace=True)"
   ]
  },
  {
   "cell_type": "code",
   "execution_count": 30,
   "metadata": {},
   "outputs": [],
   "source": [
    "num_test = 0.20\n",
    "X_train, X_test, y_train, y_test = train_test_split(X_all, y_all, test_size=num_test, random_state=23)"
   ]
  },
  {
   "cell_type": "code",
   "execution_count": 49,
   "metadata": {},
   "outputs": [
    {
     "data": {
      "text/plain": [
       "'{\"columns\":[\"Age\",\"SibSp\",\"Parch\",\"Fare\",\"C\",\"Q\",\"S\",\"female\",\"male\",\"Class_1\",\"Class_2\",\"Class_3\"],\"index\":[152,754,747,685,888,844,885,659,100,46,261,140,455,856,840,185,546,627,726,123,651,144,662,738,306,687,128,527,119,67,756,476,327,252,675,175,695,775,136,153,342,422,435,890,92,115,658,779,147,753,745,262,833,564,507,573,746,760,285,495,97,156,74,269,478,310,868,590,828,209,875,647,87,141,648,819,54,424,601,184,52,369,131,718,362,442,848,640,15,388,604,692,203,281,177,863,490,542,882,124,149,125,65,59,134,320,780,636,464,49,646,761,576,423,116,210,258,382,91,734,880,449,617,623,31,836,789,166,878,585,873,347,626,372,277,716,650,652,379,487,768,713,846,374,14,499,857,160,434,798,717,443,620,691,876,223,315,510,814,711,698,303,769,47,165,523,536,667,475,547,17,615,448,696,621,90,831,883,477,336,236,752,186,55,702,804,416,191,529,688,325,458,48,420,736,498,436,402,570,106,259,503,598,53,616,299,233,479,98,350,309,42,399,517,619,871,712,112,556,37,68,410,18,99,88,879,727,657,595,660,579,207,268,83,38,19,360,255,425,787,62,102,674,485,802,459,608,853,703,771,313,786,121,797,182,494,409,2,400,810,730,482,739,275,820,765,216,288,127,644,829,297,146,471,77,676,428,346,329,173,373,375,540,84,35,380,376,109,21,333,45,799,563,234,835,480,95,781,28,520,834,70,614,282,531,12,397,635,532,735,352,340,120,126,180,721,332,437,176,706,273,157,218,770,462,89,446,861,183,322,548,569,558,450,389,130,295,290,226,504,701,784,866,582,816,785,324,744,649,219,392,723,161,725,34,339,469,368,111,483,169,682,522,334,366,326,414,689,788,194,705,232,568,283,451,508,515,6,398,3,758,467,312,872,370,574,29,774,44,678,178,762,9,174,417,452,854,287,607,385,862,11,690,445,78,543,571,286,496,244,686,511,557,555,190,76,85,311,222,850,889,613,560,594,860,338,321,401,206,267,541,129,891,581,200,349,73,133,792,110,801,562,605,384,793,456,502,240,145,454,663,138,201,722,874,637,512,764,438,618,378,497,671,472,187,56,354,253,217,633,383,869,304,807,328,263,164,654,394,381,845,612,491,580,886,61,609,704,213,453,377,82,343,486,117,589,505,406,849,516,441,611,241,567,629,714,170,808,114,757,731,791,622,665,803,720,855,641,181,800,748,371,881,796,677,122,818,530,457,737,533,778,243,488,356,670,221,593,817,809,103,246,465,150,10,639,319,877,260,247,672,822,86,24,805,700,71,256,600,341,231,192,81,566,79,642,602,105,171,279,291,387,318,528,289,858,782,643,887,199,242,63,172,624,305,847,266,359,8,390,827,813,742,719,474,439,473,225,500,741,396,220,257,163,224,884,361,864,307,838,606,5,843,43,107,280,292,694,811,763,466,296,766,426,550,795,826,554,514,524,357,673,447,470,137,825,151,69,839,278,832,427,248,72,715,300,245,250,284,440,583,337,468,591,842,143,545,355,33,519,1,463,544,679,535,317,270,57,481,36,638,195,538,631,699,724,104,215,16,684,578,549,552,188,418,404,58,859,592,298,561,534,13,193,710,460,707,50,525,430,7,666,603,40,348,461,238,32,489,41,743,596],\"data\":[[22.0,1,0,66.6,0,0,1,1,0,1,0,0],[23.0,0,0,7.8958,0,0,1,0,1,0,0,1],[16.0,1,1,20.25,0,0,1,0,1,0,0,1],[60.0,1,1,39.0,0,0,1,0,1,0,1,0],[19.0,0,0,30.0,0,0,1,1,0,1,0,0],[34.5,0,0,6.4375,1,0,0,0,1,0,0,1],[25.0,0,0,7.05,0,0,1,0,1,0,0,1],[23.0,0,0,13.0,0,0,1,0,1,0,1,0],[34.0,1,0,26.0,0,0,1,0,1,0,1,0],[28.0,0,0,8.05,0,0,1,0,1,0,0,1],[28.0,0,0,7.75,0,1,0,0,1,0,0,1],[24.0,0,0,79.2,1,0,0,0,1,1,0,0],[28.0,0,0,8.05,0,0,1,0,1,0,0,1],[18.0,0,1,9.35,0,0,1,1,0,0,0,1],[28.0,0,0,29.7,1,0,0,0,1,1,0,0],[4.0,0,2,22.025,0,0,1,1,0,0,0,1],[64.0,0,0,26.0,0,0,1,0,1,1,0,0],[57.0,0,0,12.35,0,1,0,0,1,0,1,0],[20.0,0,0,8.6625,0,0,1,0,1,0,0,1],[32.5,1,0,30.0708,1,0,0,0,1,0,1,0],[28.0,0,0,7.8958,0,0,1,0,1,0,0,1],[19.0,0,0,6.75,0,1,0,0,1,0,0,1],[40.0,0,0,7.225,1,0,0,0,1,0,0,1],[35.0,0,0,512.3292,1,0,0,0,1,1,0,0],[0.92,1,2,151.55,0,0,1,0,1,1,0,0],[14.0,4,1,39.6875,0,0,1,0,1,0,0,1],[24.0,0,0,7.1417,0,0,1,0,1,0,0,1],[50.0,0,0,10.5,0,0,1,1,0,0,1,0],[24.0,0,1,247.5208,1,0,0,0,1,1,0,0],[29.0,0,0,10.5,0,0,1,1,0,0,1,0],[0.67,1,1,14.5,0,0,1,0,1,0,1,0],[28.0,0,0,52.0,0,0,1,0,1,1,0,0],[61.0,0,0,6.2375,0,0,1,0,1,0,0,1],[29.0,1,1,10.4625,0,0,1,1,0,0,0,1],[28.0,0,0,0.0,0,0,1,0,1,0,1,0],[56.0,0,0,30.6958,1,0,0,0,1,1,0,0],[60.0,0,0,26.55,0,0,1,0,1,1,0,0],[54.0,1,3,23.0,0,0,1,1,0,0,1,0],[23.0,0,0,15.0458,1,0,0,0,1,0,1,0],[55.5,0,0,8.05,0,0,1,0,1,0,0,1],[24.0,3,2,263.0,0,0,1,1,0,1,0,0],[21.0,0,0,7.7333,0,1,0,0,1,0,0,1],[50.0,1,0,55.9,0,0,1,0,1,1,0,0],[26.0,0,0,30.0,1,0,0,0,1,1,0,0],[20.0,0,0,7.8542,0,0,1,0,1,0,0,1],[17.0,0,0,14.4583,1,0,0,1,0,0,0,1],[32.0,1,1,15.5,0,1,0,1,0,0,0,1],[28.0,0,0,7.7375,0,1,0,0,1,0,0,1],[27.0,0,0,7.7958,0,0,1,0,1,0,0,1],[33.0,0,0,9.5,0,0,1,0,1,0,0,1],[31.0,0,0,7.925,0,0,1,0,1,0,0,1],[3.0,4,2,31.3875,0,0,1,0,1,0,0,1],[28.0,0,0,7.2292,1,0,0,0,1,0,0,1],[28.0,0,0,8.05,0,0,1,0,1,0,0,1],[33.0,0,2,26.0,0,0,1,1,0,0,1,0],[36.0,0,0,26.3875,0,0,1,0,1,1,0,0],[70.0,1,1,71.0,0,0,1,0,1,1,0,0],[33.0,0,0,86.5,0,0,1,1,0,1,0,0],[28.0,0,0,26.0,0,0,1,0,1,1,0,0],[21.0,0,0,8.05,0,0,1,0,1,0,0,1],[71.0,0,0,34.6542,1,0,0,0,1,1,0,0],[51.0,0,1,61.3792,1,0,0,0,1,1,0,0],[26.0,1,0,14.4542,1,0,0,0,1,0,0,1],[58.0,0,1,153.4625,0,0,1,1,0,1,0,0],[29.0,1,0,7.0458,0,0,1,0,1,0,0,1],[30.0,0,0,56.9292,1,0,0,1,0,1,0,0],[31.0,0,0,50.4958,0,0,1,0,1,1,0,0],[28.0,0,0,8.05,0,0,1,0,1,0,0,1],[1.0,0,2,37.0042,1,0,0,0,1,0,1,0],[16.0,0,0,7.75,0,1,0,1,0,0,0,1],[28.0,1,0,24.0,1,0,0,1,0,0,1,0],[19.0,0,0,7.8958,0,0,1,0,1,0,0,1],[16.0,1,3,34.375,0,0,1,0,1,0,0,1],[28.0,0,2,15.2458,1,0,0,1,0,0,0,1],[56.0,0,0,35.5,1,0,0,0,1,1,0,0],[43.0,0,0,6.45,0,0,1,0,1,0,0,1],[29.0,1,0,26.0,0,0,1,1,0,0,1,0],[28.0,1,1,14.4,0,0,1,1,0,0,0,1],[24.0,2,1,27.0,0,0,1,1,0,0,1,0],[1.0,2,1,39.0,0,0,1,0,1,0,1,0],[21.0,0,0,7.8,0,0,1,0,1,0,0,1],[28.0,0,0,7.75,0,1,0,1,0,0,0,1],[33.0,0,0,7.8958,1,0,0,0,1,0,0,1],[27.0,0,0,10.5,0,0,1,1,0,0,1,0],[29.0,1,0,27.7208,1,0,0,0,1,0,1,0],[20.0,0,0,9.5,0,0,1,0,1,0,0,1],[35.0,0,0,7.8958,1,0,0,0,1,0,0,1],[28.0,1,0,16.1,0,0,1,0,1,0,0,1],[14.0,0,0,7.8542,0,0,1,1,0,0,0,1],[36.0,0,0,13.0,0,0,1,1,0,0,1,0],[44.0,0,0,8.05,0,0,1,0,1,0,0,1],[4.0,0,1,13.4167,1,0,0,1,0,0,0,1],[34.0,0,0,6.4958,0,0,1,0,1,0,0,1],[65.0,0,0,7.75,0,1,0,0,1,0,0,1],[28.0,3,1,25.4667,0,0,1,0,1,0,0,1],[48.0,0,0,25.9292,0,0,1,1,0,1,0,0],[9.0,1,1,15.9,0,0,1,0,1,0,0,1],[9.0,4,2,31.275,0,0,1,1,0,0,0,1],[33.0,0,0,7.8958,0,0,1,0,1,0,0,1],[32.5,0,0,13.0,0,0,1,1,0,0,1,0],[36.5,0,2,26.0,0,0,1,0,1,0,1,0],[54.0,0,1,77.2875,0,0,1,0,1,1,0,0],[28.0,0,0,27.7208,1,0,0,0,1,1,0,0],[5.0,1,2,27.75,0,0,1,1,0,0,1,0],[29.0,1,0,26.0,0,0,1,1,0,0,1,0],[40.0,1,1,134.5,1,0,0,1,0,1,0,0],[43.0,0,1,211.3375,0,0,1,1,0,1,0,0],[28.0,0,0,13.0,0,0,1,1,0,0,1,0],[48.0,0,0,13.0,0,0,1,0,1,0,1,0],[28.0,2,0,21.6792,1,0,0,0,1,0,0,1],[48.0,1,0,76.7292,1,0,0,0,1,1,0,0],[28.0,0,0,14.5,0,0,1,0,1,0,0,1],[19.0,0,0,14.5,0,0,1,0,1,0,0,1],[29.0,0,0,7.875,0,0,1,0,1,0,0,1],[21.0,0,0,7.925,0,0,1,0,1,0,0,1],[40.0,0,0,31.0,1,0,0,0,1,1,0,0],[30.0,0,0,86.5,0,0,1,1,0,1,0,0],[1.0,0,2,15.7417,1,0,0,1,0,0,0,1],[29.0,0,0,8.05,0,0,1,0,1,0,0,1],[23.0,0,0,13.0,0,0,1,0,1,0,1,0],[56.0,0,1,83.1583,1,0,0,1,0,1,0,0],[5.0,2,1,19.2583,1,0,0,1,0,0,0,1],[34.0,1,1,14.4,0,0,1,0,1,0,0,1],[20.0,1,1,15.7417,1,0,0,0,1,0,0,1],[40.0,0,0,27.7208,1,0,0,0,1,1,0,0],[39.0,1,1,83.1583,1,0,0,1,0,1,0,0],[1.0,1,2,20.575,0,0,1,0,1,0,0,1],[9.0,0,2,20.525,0,0,1,0,1,0,0,1],[19.0,0,0,7.8958,0,0,1,0,1,0,0,1],[28.0,0,0,8.7125,1,0,0,0,1,0,0,1],[33.0,0,0,5.0,0,0,1,0,1,1,0,0],[40.0,0,0,13.0,0,0,1,1,0,0,1,0],[61.0,0,0,32.3208,0,0,1,0,1,1,0,0],[18.0,1,0,6.4958,0,0,1,0,1,0,0,1],[45.0,0,0,7.75,0,0,1,1,0,0,0,1],[19.0,0,0,7.65,0,0,1,0,1,0,0,1],[23.0,0,0,7.55,0,0,1,1,0,0,0,1],[18.0,0,1,23.0,0,0,1,1,0,0,1,0],[20.0,0,0,4.0125,1,0,0,0,1,0,0,1],[35.0,1,0,90.0,0,0,1,1,0,1,0,0],[30.5,0,0,7.75,0,1,0,1,0,0,0,1],[48.0,1,0,52.0,0,0,1,0,1,1,0,0],[42.0,0,0,7.55,0,0,1,0,1,0,0,1],[22.0,0,0,135.6333,1,0,0,0,1,1,0,0],[39.0,1,5,31.275,0,0,1,0,1,0,0,1],[25.0,1,2,151.55,0,0,1,1,0,1,0,0],[45.0,1,1,164.8667,0,0,1,1,0,1,0,0],[28.0,8,2,69.55,0,0,1,0,1,0,0,1],[17.0,0,0,7.125,0,0,1,0,1,0,0,1],[31.0,0,0,8.6833,0,0,1,1,0,0,0,1],[38.0,0,0,227.525,1,0,0,1,0,1,0,0],[25.0,1,0,7.775,0,0,1,0,1,0,0,1],[26.0,0,0,10.5,0,0,1,0,1,0,1,0],[31.0,1,0,57.0,0,0,1,0,1,1,0,0],[15.0,0,0,7.225,1,0,0,1,0,0,0,1],[51.0,0,0,8.05,0,0,1,0,1,0,0,1],[43.0,1,1,26.25,0,0,1,0,1,0,1,0],[26.0,0,0,56.4958,0,0,1,0,1,0,0,1],[6.0,4,2,31.275,0,0,1,1,0,0,0,1],[24.0,0,0,49.5042,1,0,0,1,0,1,0,0],[28.0,0,0,7.7333,0,1,0,1,0,0,0,1],[19.0,0,0,0.0,0,0,1,0,1,0,0,1],[28.0,1,0,24.15,0,1,0,0,1,0,0,1],[28.0,1,0,15.5,0,1,0,0,1,0,0,1],[1.0,4,1,39.6875,0,0,1,0,1,0,0,1],[28.0,0,0,7.225,1,0,0,0,1,0,0,1],[7.0,0,2,26.25,0,0,1,1,0,0,1,0],[25.0,0,0,13.0,0,0,1,0,1,0,1,0],[22.0,0,0,9.8375,0,0,1,1,0,0,0,1],[19.0,1,0,26.0,0,0,1,1,0,0,1,0],[2.0,4,1,29.125,0,1,0,0,1,0,0,1],[35.0,0,0,8.05,0,0,1,0,1,0,0,1],[34.0,0,0,26.55,0,0,1,0,1,1,0,0],[52.0,0,0,13.5,0,0,1,0,1,0,1,0],[27.0,1,0,14.4542,1,0,0,0,1,0,0,1],[24.0,0,0,8.05,0,0,1,0,1,0,0,1],[15.0,1,0,14.4542,1,0,0,1,0,0,0,1],[22.0,0,0,10.5167,0,0,1,1,0,0,0,1],[34.0,1,0,21.0,0,0,1,0,1,0,1,0],[28.0,0,0,7.8958,0,0,1,0,1,0,0,1],[28.0,0,0,7.55,0,0,1,1,0,0,0,1],[6.0,0,1,12.475,0,0,1,0,1,0,0,1],[28.0,0,0,50.0,0,0,1,0,1,1,0,0],[65.0,0,1,61.9792,1,0,0,0,1,1,0,0],[35.0,0,0,26.2875,0,0,1,0,1,1,0,0],[0.42,0,1,8.5167,1,0,0,0,1,0,0,1],[28.0,0,0,8.05,0,0,1,1,0,0,0,1],[32.0,0,0,13.0,0,0,1,1,0,0,1,0],[39.0,0,0,7.925,0,0,1,0,1,0,0,1],[19.0,0,0,10.1708,0,0,1,0,1,0,0,1],[28.0,8,2,69.55,0,0,1,0,1,0,0,1],[28.0,1,0,51.8625,0,0,1,1,0,1,0,0],[28.0,0,0,7.75,0,1,0,1,0,0,0,1],[10.0,0,2,24.15,0,0,1,1,0,0,0,1],[28.5,0,0,16.1,0,0,1,0,1,0,0,1],[28.0,0,0,15.1,0,0,1,0,1,0,0,1],[14.0,1,2,120.0,0,0,1,1,0,1,0,0],[26.0,0,0,8.05,0,0,1,0,1,0,0,1],[32.0,0,0,7.8542,0,0,1,0,1,0,0,1],[28.0,0,0,7.8958,0,0,1,0,1,0,0,1],[35.0,0,0,512.3292,1,0,0,1,0,1,0,0],[28.0,0,0,7.6292,0,1,0,1,0,0,0,1],[49.0,0,0,0.0,0,0,1,0,1,0,0,1],[49.0,1,0,76.7292,1,0,0,1,0,1,0,0],[24.0,1,2,65.0,0,0,1,1,0,0,1,0],[28.0,0,0,30.5,0,0,1,0,1,1,0,0],[59.0,0,0,13.5,0,0,1,0,1,0,1,0],[22.0,0,0,7.5208,0,0,1,0,1,0,0,1],[23.0,0,1,63.3583,1,0,0,0,1,1,0,0],[42.0,0,0,8.6625,0,0,1,0,1,0,0,1],[30.0,1,0,24.0,1,0,0,0,1,0,1,0],[27.0,1,0,21.0,0,0,1,1,0,0,1,0],[23.0,0,0,10.5,0,0,1,0,1,0,1,0],[34.0,0,0,10.5,0,0,1,1,0,0,1,0],[4.0,2,1,39.0,0,0,1,1,0,0,1,0],[26.0,0,0,7.8958,0,0,1,0,1,0,0,1],[28.0,0,0,26.55,0,0,1,0,1,1,0,0],[14.5,1,0,14.4542,1,0,0,1,0,0,0,1],[62.0,0,0,26.55,0,0,1,0,1,1,0,0],[28.0,0,0,7.2292,1,0,0,0,1,0,0,1],[19.0,0,0,8.1583,0,0,1,0,1,0,0,1],[28.0,3,1,25.4667,0,0,1,1,0,0,0,1],[28.0,0,0,13.0,0,0,1,0,1,0,1,0],[34.0,0,1,23.0,0,0,1,1,0,0,1,0],[28.0,0,0,8.05,0,0,1,0,1,0,0,1],[28.0,0,0,7.8958,0,0,1,0,1,0,0,1],[30.0,3,0,21.0,0,0,1,1,0,0,1,0],[28.0,0,0,7.8958,0,0,1,0,1,0,0,1],[37.0,1,0,26.0,0,0,1,0,1,0,1,0],[58.0,0,2,113.275,1,0,0,0,1,1,0,0],[28.0,1,0,14.4583,1,0,0,1,0,0,0,1],[32.0,1,0,15.85,0,0,1,0,1,0,0,1],[25.0,1,0,7.775,0,0,1,0,1,0,0,1],[28.0,0,0,7.7875,0,1,0,1,0,0,0,1],[21.0,0,0,8.05,0,0,1,0,1,0,0,1],[31.0,1,0,18.0,0,0,1,1,0,0,0,1],[28.0,0,0,7.8792,0,1,0,1,0,0,0,1],[41.0,0,2,20.2125,0,0,1,1,0,0,0,1],[18.0,1,1,20.2125,0,0,1,0,1,0,0,1],[18.0,0,0,7.4958,0,0,1,1,0,0,0,1],[38.0,0,0,80.0,0,0,1,1,0,1,0,0],[28.0,0,0,7.8958,0,0,1,0,1,0,0,1],[31.0,0,0,13.0,0,0,1,0,1,0,1,0],[25.0,1,0,91.0792,1,0,0,0,1,1,0,0],[31.0,1,1,26.25,0,0,1,1,0,0,1,0],[50.0,0,0,10.5,0,0,1,1,0,0,1,0],[27.0,0,0,30.5,0,0,1,0,1,1,0,0],[9.0,1,1,15.2458,1,0,0,1,0,0,0,1],[18.0,0,1,14.4542,1,0,0,1,0,0,0,1],[24.0,0,0,9.5,0,0,1,0,1,0,0,1],[26.0,1,1,26.0,0,0,1,1,0,0,1,0],[25.0,0,0,7.25,0,0,1,0,1,0,0,1],[21.0,2,0,73.5,0,0,1,0,1,0,1,0],[49.0,0,0,25.9292,0,0,1,1,0,1,0,0],[28.0,0,0,15.05,1,0,0,0,1,0,1,0],[71.0,0,0,49.5042,1,0,0,0,1,1,0,0],[21.0,0,0,7.775,0,0,1,0,1,0,0,1],[38.0,1,0,71.2833,1,0,0,1,0,1,0,0],[28.0,0,0,12.65,0,0,1,1,0,0,1,0],[33.0,1,0,53.1,0,0,1,1,0,1,0,0],[25.0,1,0,7.925,0,0,1,1,0,0,0,1],[28.0,0,0,0.0,0,0,1,0,1,0,1,0],[28.0,0,0,7.8958,0,0,1,0,1,0,0,1],[28.0,0,0,7.75,0,1,0,1,0,0,0,1],[10.0,3,2,27.9,0,0,1,0,1,0,0,1],[16.0,0,0,7.775,0,0,1,0,1,0,0,1],[31.0,1,0,113.275,1,0,0,1,0,1,0,0],[22.0,0,0,7.8958,0,0,1,0,1,0,0,1],[28.0,0,0,7.75,0,1,0,0,1,0,0,1],[28.0,0,0,56.4958,0,0,1,0,1,0,0,1],[28.0,0,0,7.75,0,1,0,0,1,0,0,1],[23.5,0,0,7.2292,1,0,0,0,1,0,0,1],[19.0,1,1,36.75,0,0,1,0,1,0,1,0],[28.0,0,0,7.25,0,0,1,0,1,0,0,1],[28.0,0,0,7.8958,0,0,1,0,1,0,0,1],[18.0,0,0,7.775,0,0,1,0,1,0,0,1],[19.0,0,0,26.0,0,0,1,1,0,0,1,0],[24.0,0,0,13.0,0,0,1,1,0,0,1,0],[31.0,1,1,20.525,0,0,1,1,0,0,0,1],[1.0,1,1,11.1333,0,0,1,1,0,0,0,1],[19.0,0,0,8.05,0,0,1,0,1,0,0,1],[3.0,3,1,21.075,0,0,1,1,0,0,0,1],[22.0,0,2,49.5,1,0,0,1,0,1,0,0],[28.0,0,0,47.1,0,0,1,0,1,1,0,0],[28.0,1,0,82.1708,1,0,0,0,1,1,0,0],[19.0,0,0,7.775,0,0,1,0,1,0,0,1],[28.0,1,0,82.1708,1,0,0,1,0,1,0,0],[38.0,0,0,7.8958,0,0,1,0,1,0,0,1],[35.0,0,0,26.0,0,0,1,0,1,0,1,0],[38.0,0,1,153.4625,0,0,1,0,1,1,0,0],[19.0,0,0,7.8792,0,1,0,1,0,0,0,1],[30.0,0,0,7.2292,1,0,0,0,1,0,0,1],[28.0,0,0,13.5,0,0,1,0,1,0,1,0],[5.0,4,2,31.3875,0,0,1,1,0,0,0,1],[18.0,0,0,8.3,0,0,1,0,1,0,0,1],[2.0,0,1,12.2875,0,0,1,1,0,0,0,1],[59.0,0,0,7.25,0,0,1,0,1,0,0,1],[13.0,0,0,7.2292,1,0,0,1,0,0,0,1],[19.0,3,2,263.0,0,0,1,0,1,1,0,0],[32.0,0,0,7.8958,0,0,1,0,1,0,0,1],[23.0,0,0,7.8542,0,0,1,0,1,0,0,1],[26.0,2,0,8.6625,0,0,1,0,1,0,0,1],[28.0,0,0,7.75,0,1,0,0,1,0,0,1],[28.0,0,0,7.8542,0,0,1,0,1,0,0,1],[2.0,1,1,26.0,0,0,1,1,0,0,1,0],[58.0,0,0,26.55,0,0,1,1,0,1,0,0],[31.0,0,0,7.8542,0,0,1,1,0,0,0,1],[9.0,3,2,27.9,0,0,1,1,0,0,0,1],[28.0,0,0,7.2292,1,0,0,0,1,0,0,1],[23.0,0,0,13.0,0,0,1,0,1,0,1,0],[28.0,0,0,35.0,0,0,1,0,1,1,0,0],[45.0,0,0,35.5,0,0,1,0,1,1,0,0],[2.0,4,2,31.275,0,0,1,1,0,0,0,1],[12.0,1,0,11.2417,1,0,0,0,1,0,0,1],[36.0,0,0,0.0,0,0,1,0,1,0,0,1],[6.0,0,1,33.0,0,0,1,1,0,0,1,0],[45.5,0,0,28.5,0,0,1,0,1,1,0,0],[21.0,2,2,34.375,0,0,1,1,0,0,0,1],[18.0,1,1,7.8542,0,0,1,0,1,0,0,1],[39.0,0,0,26.0,0,0,1,0,1,0,1,0],[41.0,0,1,19.5,0,0,1,1,0,0,1,0],[16.0,0,0,7.7333,0,1,0,1,0,0,0,1],[42.0,1,0,27.0,0,0,1,0,1,0,1,0],[32.0,0,0,8.3625,0,0,1,0,1,0,0,1],[34.0,0,0,8.05,0,0,1,0,1,0,0,1],[23.0,3,2,263.0,0,0,1,1,0,1,0,0],[4.0,0,2,81.8583,0,0,1,0,1,1,0,0],[41.0,2,0,14.1083,0,0,1,0,1,0,0,1],[9.0,4,2,31.3875,0,0,1,0,1,0,0,1],[27.0,0,0,7.8958,0,0,1,0,1,0,0,1],[28.0,0,0,13.8625,1,0,0,0,1,0,1,0],[28.0,0,0,7.2292,1,0,0,0,1,0,0,1],[28.0,0,0,227.525,1,0,0,0,1,1,0,0],[52.0,0,0,30.5,0,0,1,0,1,1,0,0],[28.0,0,0,7.7292,0,1,0,0,1,0,0,1],[45.0,0,0,6.975,0,0,1,0,1,0,0,1],[24.0,0,0,7.8958,0,0,1,0,1,0,0,1],[22.0,0,0,7.75,0,1,0,1,0,0,0,1],[22.0,0,0,9.35,0,0,1,0,1,0,0,1],[37.0,0,0,9.5875,0,0,1,1,0,0,0,1],[18.0,1,0,227.525,1,0,0,1,0,1,0,0],[28.0,1,2,23.45,0,0,1,0,1,0,0,1],[42.0,0,0,13.0,0,0,1,1,0,0,1,0],[39.0,1,1,110.8833,1,0,0,1,0,1,0,0],[28.0,0,0,0.0,0,0,1,0,1,1,0,0],[25.0,0,0,7.05,0,0,1,0,1,0,0,1],[22.0,1,1,29.0,0,0,1,1,0,0,1,0],[24.0,1,0,16.1,0,0,1,0,1,0,0,1],[28.0,0,0,7.55,0,0,1,0,1,0,0,1],[32.0,0,0,76.2917,1,0,0,1,0,1,0,0],[21.0,0,0,7.7958,0,0,1,0,1,0,0,1],[34.0,0,0,13.0,0,0,1,0,1,0,1,0],[44.0,0,1,16.1,0,0,1,0,1,0,0,1],[27.0,1,0,53.1,0,0,1,0,1,1,0,0],[66.0,0,0,10.5,0,0,1,0,1,0,1,0],[45.0,0,0,8.05,0,0,1,0,1,0,0,1],[28.0,0,0,7.725,0,1,0,0,1,0,0,1],[28.0,0,0,7.2292,1,0,0,1,0,0,0,1],[47.0,0,0,52.0,0,0,1,0,1,1,0,0],[50.0,0,0,8.05,0,0,1,0,1,0,0,1],[28.0,0,0,25.925,0,0,1,0,1,1,0,0],[27.0,0,0,76.7292,1,0,0,0,1,1,0,0],[22.0,0,0,7.8958,0,0,1,0,1,0,0,1],[16.0,2,0,18.0,0,0,1,0,1,0,0,1],[30.0,0,0,7.25,0,0,1,0,1,0,0,1],[36.0,0,0,135.6333,1,0,0,1,0,1,0,0],[28.0,0,0,0.0,0,0,1,0,1,0,1,0],[18.0,0,0,7.7958,0,0,1,0,1,0,0,1],[8.0,4,1,29.125,0,1,0,0,1,0,0,1],[3.0,1,1,26.0,0,0,1,0,1,0,1,0],[26.0,1,0,7.8542,0,0,1,0,1,0,0,1],[29.0,0,0,7.775,0,0,1,0,1,0,0,1],[29.0,0,4,21.075,0,0,1,1,0,0,0,1],[16.0,0,0,9.5,0,0,1,0,1,0,0,1],[36.0,1,2,27.75,0,0,1,0,1,0,1,0],[28.0,0,0,26.55,0,0,1,0,1,1,0,0],[24.0,0,0,7.4958,0,0,1,0,1,0,0,1],[28.0,0,0,8.4583,0,1,0,0,1,0,0,1],[46.0,0,0,26.0,0,0,1,0,1,0,1,0],[26.0,0,0,7.925,0,0,1,1,0,0,0,1],[18.0,0,0,11.5,0,0,1,0,1,0,1,0],[28.0,0,0,0.0,0,0,1,0,1,0,1,0],[18.0,2,2,262.375,1,0,0,1,0,1,0,0],[47.0,1,1,52.5542,0,0,1,1,0,1,0,0],[24.0,0,0,69.3,1,0,0,1,0,1,0,0],[28.0,0,0,7.75,0,1,0,1,0,0,0,1],[28.0,0,0,7.8792,0,1,0,1,0,0,0,1],[28.0,0,0,7.225,1,0,0,0,1,0,0,1],[3.0,1,2,41.5792,1,0,0,1,0,0,1,0],[18.0,0,0,9.8417,0,0,1,1,0,0,0,1],[50.0,0,0,28.7125,1,0,0,1,0,1,0,0],[41.0,0,0,7.125,0,0,1,0,1,0,0,1],[27.0,0,2,11.1333,0,0,1,1,0,0,0,1],[21.0,0,0,7.925,0,0,1,0,1,0,0,1],[34.0,1,1,32.5,0,0,1,1,0,0,1,0],[28.0,1,0,19.9667,0,0,1,0,1,0,0,1],[16.0,0,1,39.4,0,0,1,1,0,1,0,0],[30.0,0,0,9.5,0,0,1,0,1,0,0,1],[30.0,0,0,7.8958,0,0,1,0,1,0,0,1],[28.0,0,0,7.8958,0,0,1,0,1,0,0,1],[21.0,1,0,11.5,0,0,1,0,1,0,1,0],[4.0,1,1,16.7,0,0,1,1,0,0,0,1],[15.0,0,1,211.3375,0,0,1,1,0,1,0,0],[28.0,0,0,8.1125,0,0,1,0,1,0,0,1],[28.0,0,0,8.05,0,0,1,0,1,0,0,1],[11.0,4,2,31.275,0,0,1,1,0,0,0,1],[62.0,0,0,10.5,0,0,1,0,1,0,1,0],[33.0,0,0,8.6625,1,0,0,0,1,0,0,1],[28.0,0,0,14.4583,1,0,0,0,1,0,0,1],[22.0,0,0,7.125,0,0,1,0,1,0,0,1],[25.0,1,2,41.5792,1,0,0,0,1,0,1,0],[29.0,0,0,7.75,0,1,0,0,1,0,0,1],[48.0,1,0,39.6,1,0,0,1,0,1,0,0],[22.0,0,0,7.775,0,0,1,1,0,0,0,1],[36.0,0,0,7.8958,0,0,1,0,1,0,0,1],[25.0,0,0,7.65,0,0,1,0,1,0,0,1],[17.0,0,0,10.5,0,0,1,1,0,0,1,0],[24.0,0,0,83.1583,1,0,0,1,0,1,0,0],[27.0,0,0,13.0,0,0,1,0,1,0,1,0],[28.0,1,0,89.1042,1,0,0,1,0,1,0,0],[28.0,1,2,23.45,0,0,1,1,0,0,0,1],[28.0,1,0,15.5,0,1,0,1,0,0,0,1],[36.0,1,0,17.4,0,0,1,1,0,0,0,1],[28.0,0,2,7.75,0,1,0,1,0,0,0,1],[28.0,0,0,7.2292,1,0,0,0,1,0,0,1],[41.0,0,0,134.5,1,0,0,1,0,1,0,0],[22.0,0,0,7.25,0,0,1,0,1,0,0,1],[39.0,0,0,7.925,0,0,1,0,1,0,0,1],[2.0,0,1,10.4625,0,0,1,1,0,0,0,1],[16.0,4,1,39.6875,0,0,1,0,1,0,0,1],[36.0,0,2,71.0,0,0,1,1,0,1,0,0],[28.0,1,1,22.3583,1,0,0,1,0,0,0,1],[32.0,0,0,7.75,0,1,0,0,1,0,0,1],[25.0,1,1,30.0,0,0,1,1,0,0,1,0],[24.0,0,0,13.0,0,0,1,1,0,0,1,0],[3.0,1,1,15.9,0,0,1,0,1,0,0,1],[21.0,0,0,73.5,0,0,1,0,1,0,1,0],[47.0,1,0,14.5,0,0,1,1,0,0,0,1],[16.0,0,0,26.0,0,0,1,0,1,0,1,0],[28.0,1,0,24.15,0,1,0,1,0,0,0,1],[34.0,0,0,13.0,0,0,1,0,1,0,1,0],[40.0,0,0,7.8958,0,0,1,0,1,0,0,1],[35.0,0,0,26.55,1,0,0,0,1,1,0,0],[35.0,1,0,52.0,0,0,1,1,0,1,0,0],[28.0,8,2,69.55,0,0,1,1,0,0,0,1],[29.0,0,0,7.8958,1,0,0,0,1,0,0,1],[21.0,0,0,7.75,0,1,0,1,0,0,0,1],[33.0,0,0,12.275,0,0,1,0,1,0,1,0],[18.0,0,0,11.5,0,0,1,0,1,0,1,0],[49.0,1,0,89.1042,1,0,0,0,1,1,0,0],[47.0,0,0,25.5875,0,0,1,0,1,1,0,0],[37.0,1,0,53.1,0,0,1,0,1,1,0,0],[28.0,0,0,9.5,0,0,1,0,1,0,0,1],[17.0,1,0,7.0542,0,0,1,0,1,0,0,1],[47.0,0,0,9.0,0,0,1,0,1,0,0,1],[32.0,0,0,7.925,0,0,1,0,1,0,0,1],[28.0,0,0,8.05,0,0,1,0,1,0,0,1],[36.0,1,2,120.0,0,0,1,1,0,1,0,0],[24.0,2,3,18.75,0,0,1,1,0,0,1,0],[26.0,1,0,16.1,0,0,1,1,0,0,0,1],[27.0,0,2,211.5,1,0,0,0,1,1,0,0],[54.0,1,0,78.2667,1,0,0,1,0,1,0,0],[40.0,1,1,39.0,0,0,1,1,0,0,1,0],[38.0,0,0,8.6625,0,0,1,0,1,0,0,1],[28.0,1,0,15.5,0,1,0,1,0,0,0,1],[28.0,0,0,35.5,0,0,1,0,1,1,0,0],[25.0,1,0,17.8,0,0,1,0,1,0,0,1],[62.0,0,0,26.55,0,0,1,0,1,1,0,0],[27.0,0,0,7.925,0,0,1,1,0,0,0,1],[32.0,0,0,30.5,1,0,0,0,1,1,0,0],[32.0,0,0,7.925,0,0,1,0,1,0,0,1],[28.0,0,0,9.5,0,0,1,0,1,0,0,1],[28.0,0,0,12.35,0,1,0,1,0,0,1,0],[39.0,0,0,0.0,0,0,1,0,1,1,0,0],[36.0,0,0,13.0,0,0,1,1,0,0,1,0],[52.0,1,1,79.65,0,0,1,0,1,1,0,0],[17.0,0,0,8.6625,0,0,1,0,1,0,0,1],[28.0,0,0,7.8292,0,1,0,1,0,0,0,1],[23.0,1,0,113.275,1,0,0,1,0,1,0,0],[42.0,0,0,227.525,1,0,0,1,0,1,0,0],[17.0,0,0,8.6625,0,0,1,0,1,0,0,1],[28.0,0,0,7.05,0,0,1,0,1,0,0,1],[28.0,1,0,19.9667,0,0,1,0,1,0,0,1],[32.0,0,0,7.925,0,0,1,0,1,0,0,1],[39.0,0,5,29.125,0,1,0,1,0,0,0,1],[22.0,0,0,7.2292,1,0,0,0,1,0,0,1],[22.0,1,2,41.5792,1,0,0,1,0,0,1,0],[25.0,0,0,7.7417,0,1,0,0,1,0,0,1],[22.0,0,0,7.25,0,0,1,0,1,0,0,1],[30.0,0,0,27.75,1,0,0,0,1,1,0,0],[22.0,0,0,7.25,0,0,1,1,0,0,0,1],[29.0,0,0,9.5,0,0,1,0,1,0,0,1],[28.0,0,0,13.0,0,0,1,0,1,0,1,0],[28.0,3,1,25.4667,0,0,1,1,0,0,0,1],[70.5,0,0,7.75,0,1,0,0,1,0,0,1],[22.0,0,0,8.05,0,0,1,0,1,0,0,1],[16.0,0,0,86.5,0,0,1,1,0,1,0,0],[34.0,1,0,21.0,0,0,1,0,1,0,1,0],[28.0,0,1,33.0,0,0,1,0,1,0,1,0],[47.0,0,0,34.0208,0,0,1,0,1,1,0,0],[45.0,1,1,26.25,0,0,1,1,0,0,1,0],[39.0,1,5,31.275,0,0,1,1,0,0,0,1],[28.0,1,0,14.4542,1,0,0,1,0,0,0,1],[19.0,0,0,7.8958,0,0,1,0,1,0,0,1],[26.0,0,0,7.8958,0,0,1,0,1,0,0,1],[29.0,0,0,9.4833,0,0,1,0,1,0,0,1],[28.0,0,0,56.4958,0,0,1,0,1,0,0,1],[18.0,0,0,7.775,0,0,1,1,0,0,0,1],[20.0,1,0,9.825,0,0,1,1,0,0,0,1],[28.0,0,0,7.7958,0,0,1,0,1,0,0,1],[29.0,0,0,211.3375,0,0,1,1,0,1,0,0],[28.0,0,0,7.75,0,1,0,0,1,0,0,1],[42.0,1,0,52.5542,0,0,1,0,1,1,0,0],[20.0,1,0,7.925,0,0,1,0,1,0,0,1],[11.0,1,2,120.0,0,0,1,0,1,1,0,0],[33.0,0,0,7.775,0,0,1,0,1,0,0,1],[44.0,1,0,26.0,0,0,1,1,0,0,1,0],[20.0,0,0,7.8542,0,0,1,0,1,0,0,1],[28.0,8,2,69.55,0,0,1,1,0,0,0,1],[30.0,1,1,24.15,0,0,1,1,0,0,0,1],[30.0,0,0,13.0,0,0,1,1,0,0,1,0],[25.0,1,0,55.4417,1,0,0,0,1,1,0,0],[25.0,0,1,26.0,0,0,1,1,0,0,1,0],[39.0,0,0,13.0,0,0,1,0,1,0,1,0],[24.5,0,0,8.05,0,0,1,0,1,0,0,1],[28.0,0,0,8.05,0,0,1,0,1,0,0,1],[31.0,1,1,37.0042,1,0,0,0,1,0,1,0],[23.0,2,1,11.5,0,0,1,0,1,0,1,0],[65.0,0,0,26.55,0,0,1,0,1,1,0,0],[48.0,1,3,34.375,0,0,1,1,0,0,0,1],[17.0,1,1,7.2292,1,0,0,0,1,0,0,1],[5.0,0,0,12.475,0,0,1,1,0,0,0,1],[29.0,0,0,10.5,0,0,1,0,1,0,1,0],[58.0,0,0,29.7,1,0,0,0,1,1,0,0],[28.0,0,0,9.5,0,0,1,0,1,0,0,1],[28.0,1,0,52.0,0,0,1,1,0,1,0,0],[16.0,0,0,8.05,0,0,1,0,1,0,0,1],[47.0,0,0,7.25,0,0,1,0,1,0,0,1],[23.0,0,0,7.925,0,0,1,1,0,0,0,1],[39.0,0,0,13.0,0,0,1,0,1,0,1,0],[21.0,0,1,77.2875,0,0,1,0,1,1,0,0],[44.0,2,0,90.0,0,1,0,0,1,1,0,0],[28.0,0,0,8.05,0,0,1,0,1,0,0,1],[42.0,0,0,13.0,0,0,1,0,1,0,1,0],[14.0,1,0,30.0708,1,0,0,1,0,0,1,0],[41.0,0,5,39.6875,0,0,1,1,0,0,0,1],[31.0,0,2,164.8667,0,0,1,1,0,1,0,0],[20.0,0,0,9.8458,0,0,1,0,1,0,0,1],[50.0,0,1,26.0,0,0,1,1,0,0,1,0],[25.0,0,0,7.775,0,0,1,1,0,0,0,1],[31.0,1,0,52.0,0,0,1,0,1,1,0,0],[27.0,0,0,8.6625,0,0,1,0,1,0,0,1],[33.0,3,0,15.85,0,0,1,1,0,0,0,1],[28.0,0,0,35.5,0,0,1,0,1,1,0,0],[27.0,0,0,6.975,0,0,1,0,1,0,0,1],[42.0,0,0,7.65,0,0,1,0,1,0,0,1],[32.0,0,0,10.5,0,0,1,0,1,0,1,0],[29.0,0,2,15.2458,1,0,0,1,0,0,0,1],[49.0,1,0,56.9292,1,0,0,0,1,1,0,0],[2.0,1,1,26.0,0,0,1,0,1,0,1,0],[35.0,1,0,83.475,0,0,1,1,0,1,0,0],[19.0,0,0,13.0,0,0,1,0,1,0,1,0],[22.0,0,0,9.0,0,0,1,0,1,0,0,1],[24.0,2,0,24.15,0,0,1,0,1,0,0,1],[0.83,0,2,29.0,0,0,1,0,1,0,1,0],[24.0,0,0,69.3,1,0,0,1,0,1,0,0],[28.0,0,0,7.8958,0,0,1,0,1,0,0,1],[37.0,2,0,7.925,0,0,1,0,1,0,0,1],[61.0,0,0,33.5,0,0,1,0,1,1,0,0],[7.0,4,1,29.125,0,1,0,0,1,0,0,1],[26.0,0,0,78.85,0,0,1,1,0,1,0,0],[1.0,5,2,46.9,0,0,1,0,1,0,0,1],[54.0,0,0,14.0,0,0,1,0,1,0,1,0],[28.0,0,0,221.7792,0,0,1,0,1,1,0,0],[42.0,0,0,13.0,0,0,1,0,1,0,1,0],[51.0,0,0,26.55,0,0,1,0,1,1,0,0],[17.0,1,0,57.0,0,0,1,1,0,1,0,0],[2.0,3,2,27.9,0,0,1,1,0,0,0,1],[27.0,0,0,13.0,0,0,1,0,1,0,1,0],[28.0,0,0,7.75,0,1,0,1,0,0,0,1],[28.0,1,0,15.5,0,1,0,1,0,0,0,1],[45.0,1,0,83.475,0,0,1,0,1,1,0,0],[4.0,4,1,29.125,0,1,0,0,1,0,0,1],[21.0,0,0,7.8542,0,0,1,0,1,0,0,1],[28.0,0,0,8.05,0,0,1,0,1,0,0,1],[28.0,8,2,69.55,0,0,1,0,1,0,0,1],[36.0,0,0,10.5,0,0,1,0,1,0,1,0],[28.0,0,0,7.8792,0,1,0,1,0,0,0,1],[2.0,3,1,21.075,0,0,1,0,1,0,0,1],[17.0,0,0,12.0,1,0,0,1,0,0,1,0],[28.0,0,0,56.4958,0,0,1,0,1,0,0,1],[35.0,0,0,10.5,0,0,1,0,1,0,1,0],[36.0,1,0,78.85,0,0,1,0,1,1,0,0],[28.0,0,0,15.5,0,1,0,0,1,0,0,1],[23.0,0,0,13.7917,1,0,0,1,0,0,1,0],[64.0,1,4,263.0,0,0,1,0,1,1,0,0],[33.0,1,2,27.75,0,0,1,1,0,0,1,0],[38.0,1,0,90.0,0,0,1,0,1,1,0,0],[24.0,0,0,7.7958,0,0,1,0,1,0,0,1],[28.0,0,0,30.0,0,0,1,0,1,1,0,0],[22.0,0,0,7.7958,0,0,1,0,1,0,0,1],[30.0,0,0,10.5,0,0,1,0,1,0,1,0],[28.0,0,0,79.2,1,0,0,1,0,1,0,0],[26.0,0,0,7.775,0,0,1,0,1,0,0,1],[28.0,0,0,7.8958,0,0,1,0,1,0,0,1],[28.0,0,0,10.5,0,0,1,0,1,0,1,0],[40.0,1,4,27.9,0,0,1,0,1,0,0,1],[28.0,8,2,69.55,0,0,1,1,0,0,0,1],[28.0,0,0,110.8833,1,0,0,1,0,1,0,0],[28.0,0,0,8.05,0,0,1,0,1,0,0,1],[36.0,1,0,15.55,0,0,1,0,1,0,0,1],[35.0,0,0,8.05,0,0,1,0,1,0,0,1],[30.0,0,0,31.0,1,0,0,1,0,1,0,0],[28.0,0,0,7.8958,1,0,0,0,1,0,0,1],[21.0,0,0,7.65,0,0,1,1,0,0,0,1],[35.0,1,1,20.25,0,0,1,1,0,0,0,1],[19.0,1,0,91.0792,1,0,0,1,0,1,0,0],[25.0,0,0,7.225,1,0,0,0,1,0,0,1],[26.0,0,0,7.8875,0,0,1,0,1,0,0,1],[20.0,0,0,7.2292,1,0,0,0,1,0,0,1],[38.0,0,0,7.05,0,0,1,0,1,0,0,1],[28.0,0,0,27.7208,1,0,0,0,1,1,0,0],[51.0,1,0,77.9583,0,0,1,1,0,1,0,0],[28.0,0,0,7.25,0,0,1,0,1,0,0,1],[8.0,1,1,36.75,0,0,1,0,1,0,1,0],[25.0,0,0,7.8958,0,0,1,0,1,0,0,1],[28.0,0,0,6.95,0,1,0,0,1,0,0,1],[22.0,0,0,7.225,1,0,0,0,1,0,0,1],[54.0,1,0,59.4,1,0,0,1,0,1,0,0],[44.0,0,1,57.9792,1,0,0,1,0,1,0,0],[22.0,0,1,55.0,0,0,1,1,0,1,0,0],[70.0,0,0,10.5,0,0,1,0,1,0,1,0],[13.0,0,1,19.5,0,0,1,1,0,0,1,0],[0.75,2,1,19.2583,1,0,0,1,0,0,0,1],[19.0,0,2,26.2833,0,0,1,1,0,1,0,0],[2.0,4,1,39.6875,0,0,1,0,1,0,0,1],[51.0,0,0,12.525,0,0,1,0,1,0,1,0],[17.0,4,2,7.925,0,0,1,1,0,0,0,1],[32.0,0,0,56.4958,0,0,1,0,1,0,0,1],[28.0,0,0,0.0,0,0,1,0,1,0,1,0],[0.83,1,1,18.75,0,0,1,0,1,0,1,0],[28.0,1,0,26.0,0,0,1,1,0,0,1,0],[24.0,0,2,14.5,0,0,1,1,0,0,1,0],[16.0,5,2,46.9,0,0,1,1,0,0,0,1],[52.0,0,0,13.0,0,0,1,0,1,0,1,0],[50.0,0,1,247.5208,1,0,0,1,0,1,0,0],[30.0,0,0,7.225,1,0,0,0,1,0,0,1],[54.0,1,0,26.0,0,0,1,0,1,0,1,0],[19.0,0,0,8.05,0,0,1,0,1,0,0,1],[31.0,0,0,10.5,0,0,1,0,1,0,1,0],[54.0,0,0,26.0,0,0,1,0,1,0,1,0],[29.0,1,0,66.6,0,0,1,0,1,1,0,0],[56.0,0,0,26.55,0,0,1,0,1,1,0,0],[35.0,0,0,7.125,0,0,1,0,1,0,0,1],[16.0,0,0,10.5,0,0,1,0,1,0,1,0],[24.0,1,0,15.85,0,0,1,1,0,0,0,1],[50.0,1,0,106.425,1,0,0,0,1,1,0,0],[28.0,0,0,7.225,1,0,0,0,1,0,0,1],[28.0,0,0,7.75,0,1,0,1,0,0,0,1],[36.0,1,0,26.0,0,0,1,1,0,0,1,0],[22.0,1,0,7.25,0,0,1,0,1,0,0,1],[47.0,0,0,38.5,0,0,1,0,1,1,0,0],[32.0,1,0,26.0,0,0,1,0,1,0,1,0],[43.0,1,6,46.9,0,0,1,1,0,0,0,1],[30.0,0,0,8.6625,0,0,1,1,0,0,0,1],[24.0,1,0,26.0,0,0,1,1,0,0,1,0],[35.0,0,0,135.6333,0,0,1,1,0,1,0,0],[21.0,0,0,10.5,0,0,1,1,0,0,1,0],[9.0,5,2,46.9,0,0,1,0,1,0,0,1],[42.0,1,0,52.0,0,0,1,0,1,1,0,0],[31.0,1,1,26.25,0,0,1,0,1,0,1,0],[44.0,0,0,27.7208,1,0,0,1,0,1,0,0],[30.0,0,0,106.425,1,0,0,1,0,1,0,0],[80.0,0,0,30.0,0,0,1,0,1,1,0,0],[49.0,1,1,110.8833,1,0,0,0,1,1,0,0],[50.0,0,0,13.0,0,0,1,0,1,0,1,0],[33.0,0,0,8.6542,0,0,1,0,1,0,0,1],[28.0,1,0,7.75,0,1,0,0,1,0,0,1],[55.0,0,0,16.0,0,0,1,1,0,0,1,0],[14.0,5,2,46.9,0,0,1,0,1,0,0,1],[39.0,1,0,55.9,0,0,1,1,0,1,0,0],[33.0,1,1,20.525,0,0,1,0,1,0,0,1],[27.0,0,0,26.0,0,0,1,0,1,0,1,0],[45.0,0,0,26.55,0,0,1,0,1,1,0,0],[18.0,0,2,13.0,0,0,1,1,0,0,1,0],[28.0,1,0,15.85,0,0,1,0,1,0,0,1],[28.5,0,0,7.2292,1,0,0,0,1,0,0,1],[24.0,0,3,19.2583,1,0,0,1,0,0,0,1],[52.0,1,0,78.2667,1,0,0,1,0,1,0,0],[2.0,1,2,151.55,0,0,1,1,0,1,0,0],[28.0,0,0,7.75,0,1,0,0,1,0,0,1],[28.0,0,2,22.3583,1,0,0,1,0,0,0,1],[20.0,0,0,8.05,0,0,1,0,1,0,0,1],[19.0,1,0,7.8542,0,0,1,1,0,0,0,1],[28.0,1,1,15.2458,1,0,0,0,1,0,0,1],[28.0,0,0,7.75,0,1,0,0,1,0,0,1],[45.0,0,0,13.5,0,0,1,1,0,0,1,0],[18.0,1,0,17.8,0,0,1,1,0,0,0,1],[28.0,0,0,7.2292,1,0,0,0,1,0,0,1],[32.0,0,0,8.05,0,0,1,0,1,0,0,1],[54.0,0,0,51.8625,0,0,1,0,1,1,0,0],[32.0,2,0,73.5,0,0,1,0,1,0,1,0],[28.0,0,0,42.4,0,0,1,0,1,1,0,0],[14.0,1,0,11.2417,1,0,0,1,0,0,0,1],[28.0,1,0,16.1,0,0,1,1,0,0,0,1],[48.0,0,0,26.55,0,0,1,0,1,1,0,0],[8.0,0,2,26.25,0,0,1,1,0,0,1,0],[28.0,1,0,146.5208,1,0,0,1,0,1,0,0],[30.0,0,0,8.05,0,0,1,0,1,0,0,1],[40.0,1,0,9.475,0,0,1,1,0,0,0,1],[21.0,2,2,262.375,1,0,0,1,0,1,0,0],[36.0,1,1,24.15,0,0,1,0,1,0,0,1]]}'"
      ]
     },
     "execution_count": 49,
     "metadata": {},
     "output_type": "execute_result"
    }
   ],
   "source": [
    "X_train.to_json(orient='split')"
   ]
  },
  {
   "cell_type": "code",
   "execution_count": 31,
   "metadata": {},
   "outputs": [
    {
     "data": {
      "text/plain": [
       "(712, 12)"
      ]
     },
     "execution_count": 31,
     "metadata": {},
     "output_type": "execute_result"
    }
   ],
   "source": [
    "X_train.shape"
   ]
  },
  {
   "cell_type": "code",
   "execution_count": 32,
   "metadata": {},
   "outputs": [
    {
     "data": {
      "text/plain": [
       "(179, 12)"
      ]
     },
     "execution_count": 32,
     "metadata": {},
     "output_type": "execute_result"
    }
   ],
   "source": [
    "X_test.shape"
   ]
  },
  {
   "cell_type": "code",
   "execution_count": 33,
   "metadata": {},
   "outputs": [
    {
     "data": {
      "text/plain": [
       "(712,)"
      ]
     },
     "execution_count": 33,
     "metadata": {},
     "output_type": "execute_result"
    }
   ],
   "source": [
    "y_train.shape"
   ]
  },
  {
   "cell_type": "code",
   "execution_count": 34,
   "metadata": {},
   "outputs": [
    {
     "data": {
      "text/plain": [
       "(179,)"
      ]
     },
     "execution_count": 34,
     "metadata": {},
     "output_type": "execute_result"
    }
   ],
   "source": [
    "y_test.shape"
   ]
  },
  {
   "cell_type": "code",
   "execution_count": 35,
   "metadata": {},
   "outputs": [],
   "source": [
    "from sklearn.metrics import accuracy_score\n",
    "from sklearn.svm import LinearSVC\n",
    "from sklearn.ensemble import RandomForestClassifier"
   ]
  },
  {
   "cell_type": "code",
   "execution_count": 36,
   "metadata": {},
   "outputs": [
    {
     "name": "stdout",
     "output_type": "stream",
     "text": [
      "0.7150837988826816\n"
     ]
    }
   ],
   "source": [
    "linsvc_clf = LinearSVC()\n",
    "linsvc_clf.fit(X_train, y_train)\n",
    "pred_linsvc = linsvc_clf.predict(X_test)\n",
    "acc_linsvc = accuracy_score(y_test, pred_linsvc)\n",
    "\n",
    "print(acc_linsvc)"
   ]
  },
  {
   "cell_type": "code",
   "execution_count": 37,
   "metadata": {},
   "outputs": [
    {
     "name": "stdout",
     "output_type": "stream",
     "text": [
      "0.776536312849162\n"
     ]
    }
   ],
   "source": [
    "rf_clf = RandomForestClassifier()\n",
    "rf_clf.fit(X_train, y_train)\n",
    "pred_rf = rf_clf.predict(X_test)\n",
    "acc_rf = accuracy_score(y_test, pred_rf)\n",
    "\n",
    "print(acc_rf)"
   ]
  },
  {
   "cell_type": "markdown",
   "metadata": {},
   "source": [
    "Rose DeWiit Bukater\n",
    "- Pclass: 1st Class\n",
    "- Sex: Female\n",
    "- Age: 17\n",
    "- SibSp: 0\n",
    "- Parch: 1\n",
    "- Fare: 53.1000\n",
    "- Embarked: 'S'"
   ]
  },
  {
   "cell_type": "code",
   "execution_count": 38,
   "metadata": {},
   "outputs": [],
   "source": [
    "Rose_DeWiit_Bukater = [17, 0, 1, 53.1000, 0, 0, 1, 1, 0, 1, 0, 0 ]"
   ]
  },
  {
   "cell_type": "code",
   "execution_count": 39,
   "metadata": {},
   "outputs": [
    {
     "data": {
      "text/plain": [
       "12"
      ]
     },
     "execution_count": 39,
     "metadata": {},
     "output_type": "execute_result"
    }
   ],
   "source": [
    "len(Rose_DeWiit_Bukater)"
   ]
  },
  {
   "cell_type": "markdown",
   "metadata": {},
   "source": [
    "Jack Dawson\n",
    "- Pclass: 3rd Class\n",
    "- Sex: Male\n",
    "- Age: 23\n",
    "- SibSp: 0\n",
    "- Parch: 0\n",
    "- Fare: 0\n",
    "- Embarked: 'S'"
   ]
  },
  {
   "cell_type": "code",
   "execution_count": 40,
   "metadata": {},
   "outputs": [],
   "source": [
    "Jack_Dawson = [23, 0, 0, 0, 0, 0, 1, 0, 1, 0, 0, 1 ]"
   ]
  },
  {
   "cell_type": "code",
   "execution_count": 41,
   "metadata": {},
   "outputs": [
    {
     "data": {
      "text/plain": [
       "array([1])"
      ]
     },
     "execution_count": 41,
     "metadata": {},
     "output_type": "execute_result"
    }
   ],
   "source": [
    "linsvc_clf.predict([Rose_DeWiit_Bukater])"
   ]
  },
  {
   "cell_type": "code",
   "execution_count": 42,
   "metadata": {
    "scrolled": true
   },
   "outputs": [
    {
     "data": {
      "text/plain": [
       "array([0])"
      ]
     },
     "execution_count": 42,
     "metadata": {},
     "output_type": "execute_result"
    }
   ],
   "source": [
    "linsvc_clf.predict([Jack_Dawson])"
   ]
  },
  {
   "cell_type": "code",
   "execution_count": 43,
   "metadata": {},
   "outputs": [
    {
     "data": {
      "text/plain": [
       "array([1])"
      ]
     },
     "execution_count": 43,
     "metadata": {},
     "output_type": "execute_result"
    }
   ],
   "source": [
    "rf_clf.predict([Rose_DeWiit_Bukater])"
   ]
  },
  {
   "cell_type": "code",
   "execution_count": 44,
   "metadata": {},
   "outputs": [
    {
     "data": {
      "text/plain": [
       "array([0])"
      ]
     },
     "execution_count": 44,
     "metadata": {},
     "output_type": "execute_result"
    }
   ],
   "source": [
    "rf_clf.predict([Jack_Dawson])"
   ]
  },
  {
   "cell_type": "code",
   "execution_count": 45,
   "metadata": {},
   "outputs": [
    {
     "data": {
      "text/html": [
       "<div>\n",
       "<style scoped>\n",
       "    .dataframe tbody tr th:only-of-type {\n",
       "        vertical-align: middle;\n",
       "    }\n",
       "\n",
       "    .dataframe tbody tr th {\n",
       "        vertical-align: top;\n",
       "    }\n",
       "\n",
       "    .dataframe thead th {\n",
       "        text-align: right;\n",
       "    }\n",
       "</style>\n",
       "<table border=\"1\" class=\"dataframe\">\n",
       "  <thead>\n",
       "    <tr style=\"text-align: right;\">\n",
       "      <th></th>\n",
       "      <th>Model</th>\n",
       "      <th>Accuracy</th>\n",
       "    </tr>\n",
       "  </thead>\n",
       "  <tbody>\n",
       "    <tr>\n",
       "      <th>1</th>\n",
       "      <td>Random Forest</td>\n",
       "      <td>0.776536</td>\n",
       "    </tr>\n",
       "    <tr>\n",
       "      <th>0</th>\n",
       "      <td>Linear SVC</td>\n",
       "      <td>0.715084</td>\n",
       "    </tr>\n",
       "  </tbody>\n",
       "</table>\n",
       "</div>"
      ],
      "text/plain": [
       "           Model  Accuracy\n",
       "1  Random Forest  0.776536\n",
       "0     Linear SVC  0.715084"
      ]
     },
     "execution_count": 45,
     "metadata": {},
     "output_type": "execute_result"
    }
   ],
   "source": [
    "model_performance = pd.DataFrame({\n",
    "    \"Model\": [\"Linear SVC\", \"Random Forest\"],\n",
    "    \"Accuracy\": [acc_linsvc, acc_rf]\n",
    "})\n",
    "\n",
    "model_performance.sort_values(by=\"Accuracy\", ascending=False)"
   ]
  },
  {
   "cell_type": "code",
   "execution_count": 46,
   "metadata": {},
   "outputs": [],
   "source": [
    "import pickle"
   ]
  },
  {
   "cell_type": "code",
   "execution_count": 47,
   "metadata": {},
   "outputs": [
    {
     "ename": "FileNotFoundError",
     "evalue": "[Errno 2] No such file or directory: '../models/linsvc_clf.pkl'",
     "output_type": "error",
     "traceback": [
      "\u001b[0;31m---------------------------------------------------------------------------\u001b[0m",
      "\u001b[0;31mFileNotFoundError\u001b[0m                         Traceback (most recent call last)",
      "Input \u001b[0;32mIn [47]\u001b[0m, in \u001b[0;36m<cell line: 1>\u001b[0;34m()\u001b[0m\n\u001b[0;32m----> 1\u001b[0m pickle\u001b[38;5;241m.\u001b[39mdump(linsvc_clf, \u001b[38;5;28;43mopen\u001b[39;49m\u001b[43m(\u001b[49m\u001b[38;5;124;43m'\u001b[39;49m\u001b[38;5;124;43m../models/linsvc_clf.pkl\u001b[39;49m\u001b[38;5;124;43m'\u001b[39;49m\u001b[43m,\u001b[49m\u001b[43m \u001b[49m\u001b[38;5;124;43m'\u001b[39;49m\u001b[38;5;124;43mwb\u001b[39;49m\u001b[38;5;124;43m'\u001b[39;49m\u001b[43m)\u001b[49m)\n\u001b[1;32m      2\u001b[0m pickle\u001b[38;5;241m.\u001b[39mdump(rf_clf, \u001b[38;5;28mopen\u001b[39m(\u001b[38;5;124m'\u001b[39m\u001b[38;5;124m../models/rf_clf.pkl\u001b[39m\u001b[38;5;124m'\u001b[39m, \u001b[38;5;124m'\u001b[39m\u001b[38;5;124mwb\u001b[39m\u001b[38;5;124m'\u001b[39m))\n",
      "\u001b[0;31mFileNotFoundError\u001b[0m: [Errno 2] No such file or directory: '../models/linsvc_clf.pkl'"
     ]
    }
   ],
   "source": [
    "pickle.dump(linsvc_clf, open('../models/linsvc_clf.pkl', 'wb'))\n",
    "pickle.dump(rf_clf, open('../models/rf_clf.pkl', 'wb'))"
   ]
  },
  {
   "cell_type": "code",
   "execution_count": null,
   "metadata": {},
   "outputs": [],
   "source": [
    "linsvc = pickle.load(open( \"../models/linsvc_clf.pkl\", \"rb\" ))\n",
    "rf = pickle.load(open( \"../models/rf_clf.pkl\", \"rb\" ))"
   ]
  },
  {
   "cell_type": "code",
   "execution_count": null,
   "metadata": {},
   "outputs": [],
   "source": [
    "linsvc.predict([Rose_DeWiit_Bukater, Jack_Dawson])"
   ]
  },
  {
   "cell_type": "code",
   "execution_count": null,
   "metadata": {},
   "outputs": [],
   "source": [
    "rf.predict([Rose_DeWiit_Bukater, Jack_Dawson])"
   ]
  },
  {
   "cell_type": "code",
   "execution_count": null,
   "metadata": {},
   "outputs": [],
   "source": []
  }
 ],
 "metadata": {
  "kernelspec": {
   "display_name": "Python 3 (ipykernel)",
   "language": "python",
   "name": "python3"
  },
  "language_info": {
   "codemirror_mode": {
    "name": "ipython",
    "version": 3
   },
   "file_extension": ".py",
   "mimetype": "text/x-python",
   "name": "python",
   "nbconvert_exporter": "python",
   "pygments_lexer": "ipython3",
   "version": "3.10.4"
  },
  "pycharm": {
   "stem_cell": {
    "cell_type": "raw",
    "metadata": {
     "collapsed": false
    },
    "source": []
   }
  }
 },
 "nbformat": 4,
 "nbformat_minor": 4
}
